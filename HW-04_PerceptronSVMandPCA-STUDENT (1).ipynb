{
 "cells": [
  {
   "cell_type": "markdown",
   "metadata": {},
   "source": [
    "# Homework Assignment 4\n",
    "\n",
    "## Using the Perceptron, SVMs, and PCA with Credit Card Approval Data"
   ]
  },
  {
   "cell_type": "markdown",
   "metadata": {},
   "source": [
    "### <p style=\"text-align: right;\"> &#9989; James Tan</p>\n",
    "### <p style=\"text-align: right;\"> &#9989; broncodo</p>"
   ]
  },
  {
   "cell_type": "markdown",
   "metadata": {},
   "source": [
    "<img src=\"https://storage.googleapis.com/kaggle-datasets-images/3807174/6598147/ab3c96d720559e8bff08d02bd035f93c/dataset-cover.jpg?t=2023-10-03-01-37-20\" width=400px align=\"right\" style=\"margin-left: 20px\" alt=\"Underwater naval mines\">\n",
    "\n",
    "### Goals for this homework assignment\n",
    "\n",
    "By the end of this assignment, you should be able to:\n",
    "* Use `git` and the branching functionality to track your work and turn in your assignment\n",
    "* Read in data and prepare it for modeling\n",
    "* Build, fit, and evaluate an SVC model of data\n",
    "* Use PCA to reduce the number of important features\n",
    "* Build, fit, and evaluate an SVC model of PCA-transformed data\n",
    "* Train a perceptron and compare to SVC model\n",
    "\n",
    "### Assignment instructions:\n",
    "\n",
    "Work through the following assignment, making sure to follow all of the directions and answer all of the questions.\n",
    "\n",
    "There are **62 points** possible on this assignment. Point values for each part are included in the section headers.\n",
    "\n",
    "This assignment is **due by 11:59 pm on Friday, April 12. It should be pushed to your repo (see Part 1) AND submitted to D2L**. \n",
    "\n",
    "#### Imports\n",
    "\n",
    "It's useful to put all of the imports you need for this assignment in one place. Read through the assignment to figure out which imports you'll need or add them here as you go."
   ]
  },
  {
   "cell_type": "code",
   "execution_count": 1,
   "metadata": {},
   "outputs": [],
   "source": [
    "# Put all necessary imports here\n"
   ]
  },
  {
   "cell_type": "markdown",
   "metadata": {},
   "source": [
    "---\n",
    "## Part 1: Git Repo Management and Branching (6 points)\n",
    "\n",
    "For this assignment, you're going to add it to the `cmse202-s24-turnin` repository you created in class so that you can track your progress on the assignment and preserve the final version that you turn in. In order to do this you need to\n",
    "\n",
    "**&#9989; Do the following**:\n",
    "\n",
    "1. Navigate to your `cmse202-s24-turnin` **local** repository and create a new directory called `hw-04`\n",
    "\n",
    "2. Move this notebook into that **new directory** in your repository.\n",
    "\n",
    "3. Create a **new branch** called `hw04_branch`.\n",
    "\n",
    "4. \"Check out\" the new branch (so that you'll be working on that branch). \n",
    "\n",
    "5. Double check to make sure you are actually on that branch.\n",
    "\n",
    "6. Once you're certain you're working on your new branch, add this notebook to your repository, then make a commit and push it to GitHub. You may need to use `git push origin hw04_branch` to push your new branch to GitHub.\n",
    "\n",
    "Finally, &#9989; **Do this**: Before you move on, put the command that your instructor should run to clone your repository in the markdown cell below."
   ]
  },
  {
   "cell_type": "markdown",
   "metadata": {},
   "source": [
    "```bash\n",
    "# Put your answer here\n",
    "```"
   ]
  },
  {
   "cell_type": "markdown",
   "metadata": {},
   "source": [
    "**Important**: Double check you've added your Professor and your TA as collaborators to your \"turnin\" repository (you should have done this in the previous homework assignment).\n",
    "\n",
    "**Also important**: Make sure that the version of this notebook that you are working on is the same one that you just added to your repository! If you are working on a different copy of the notebook, **none of your changes will be tracked**!\n",
    "\n",
    "If everything went as intended, the file should now show up on your GitHub account in the \"`cmse202-s24-turnin`\" repository inside the `hw-04` directory that you just created within the new branch `hw04_branch`.\n",
    "\n",
    "Periodically, **you'll be asked to commit your changes to the repository and push them to the remote GitHub location**. Of course, you can always commit your changes more often than that, if you wish.  It can be good to get into a habit of committing your changes any time you make a significant modification, or when you stop working on the project for a bit.\n"
   ]
  },
  {
   "cell_type": "markdown",
   "metadata": {},
   "source": [
    "---\n",
    "<a id=\"loading\"></a>\n",
    "## Part 2. Loading a the dataset: Credit card approval data (7 points)\n",
    "\n",
    "The dataset contains information about individuals and whether they were approved or rejected for a credit card application. You can think of this approval or rejection as **binary classification**.\n",
    "\n",
    "The goal of this assignment is to use this dataset to practice using the Perceptron classifier, SVMs, and PCA tools we've covered in class. Since the goal of the assignment is to develop models, we have done most of the pre-processing of the data for you (isolating numeric columns, rescaling the data with `StandardScalar`), with the exception of leaving it to you to remove some missing values as we have done in class. \n",
    " \n",
    "#### The data\n",
    "\n",
    "**&#9989; Do This:**  To get started, you'll need to download the associated `cc_data.csv` file:\n",
    "`https://raw.githubusercontent.com/yangy5/HWFiles/main/cc_data.csv`\n",
    "\n",
    "Once you've downloaded the data, **open the files using a text browser or other tool on your computer and take a look at the data to get a sense of the information it contains.** If you are curious about this dataset it came from the following link [CC Approval Data](https://www.kaggle.com/datasets/youssefaboelwafa/credit-card-approval/data)."
   ]
  },
  {
   "cell_type": "code",
   "execution_count": 1,
   "metadata": {},
   "outputs": [
    {
     "name": "stdout",
     "output_type": "stream",
     "text": [
      "  % Total    % Received % Xferd  Average Speed   Time    Time     Time  Current\n",
      "                                 Dload  Upload   Total   Spent    Left  Speed\n",
      "100 86051  100 86051    0     0   168k      0 --:--:-- --:--:-- --:--:--  169k\n"
     ]
    }
   ],
   "source": [
    "!curl -O https://raw.githubusercontent.com/yangy5/HWFiles/main/cc_data.csv"
   ]
  },
  {
   "cell_type": "markdown",
   "metadata": {},
   "source": [
    "### 2.1 Load the data\n",
    "\n",
    "**&#9989; Task 2.1 (2 point):** Read the ```cc_data.csv``` file into your notebook and drop the missing values. The missing values contain \"?\". We're going to use \"class\" column as the classes that we'll be trying to predict with our classification models.\n",
    "\n",
    "Once you've loaded in the data and dropped the missing data, **display the DataFrame to make sure it looks reasonable**. You should have **7 columns** and **666 rows**."
   ]
  },
  {
   "cell_type": "code",
   "execution_count": 11,
   "metadata": {},
   "outputs": [
    {
     "name": "stdout",
     "output_type": "stream",
     "text": [
      "                   var1      var2      var3      var4                  var5  \\\n",
      "0  -0.06173102354640747 -0.955920 -0.290872 -0.287892    0.1034783002693444   \n",
      "1     2.266444267315627 -0.060007  0.244013  0.740293   -0.8113307237034743   \n",
      "2   -0.5910898450678396 -0.855481 -0.216167 -0.493529    0.5522525384446895   \n",
      "3    -0.312611981613437 -0.646569  0.456175  0.534656  -0.48338031888302985   \n",
      "4   -0.9531946945445854  0.174015 -0.153415 -0.493529   -0.3683100014021721   \n",
      "\n",
      "       var6 class  \n",
      "0 -0.195272     +  \n",
      "1 -0.087788     +  \n",
      "2 -0.037117     +  \n",
      "3 -0.194696     +  \n",
      "4 -0.195272     +  \n"
     ]
    }
   ],
   "source": [
    "# Put your code here\n",
    "import pandas as pd\n",
    "\n",
    "df = pd.read_csv('cc_data.csv')\n",
    "\n",
    "print(df.head())\n"
   ]
  },
  {
   "cell_type": "markdown",
   "metadata": {},
   "source": [
    "### 2.2 Relabeling the classes\n",
    "\n",
    "To simplify the process of modeling the credit card approval data, we should convert the class labels from strings to integers. For example, rather than `+`, we can consider this to be class \"`1`\".\n",
    "\n",
    "**&#9989; Task 2.2 (2 points):** Replace all of the strings in your \"Class\" column with integers based on the following:\n",
    "\n",
    "| original label | replaced label |\n",
    "| -------- | -------- |\n",
    "| + | 1 |\n",
    "| - | 0 |\n",
    "\n",
    "Once you've replaced the labels, display your DataFrame and confirm that it looks correct."
   ]
  },
  {
   "cell_type": "code",
   "execution_count": 12,
   "metadata": {},
   "outputs": [
    {
     "name": "stdout",
     "output_type": "stream",
     "text": [
      "                   var1      var2      var3      var4                  var5  \\\n",
      "0  -0.06173102354640747 -0.955920 -0.290872 -0.287892    0.1034783002693444   \n",
      "1     2.266444267315627 -0.060007  0.244013  0.740293   -0.8113307237034743   \n",
      "2   -0.5910898450678396 -0.855481 -0.216167 -0.493529    0.5522525384446895   \n",
      "3    -0.312611981613437 -0.646569  0.456175  0.534656  -0.48338031888302985   \n",
      "4   -0.9531946945445854  0.174015 -0.153415 -0.493529   -0.3683100014021721   \n",
      "\n",
      "       var6  class  \n",
      "0 -0.195272      1  \n",
      "1 -0.087788      1  \n",
      "2 -0.037117      1  \n",
      "3 -0.194696      1  \n",
      "4 -0.195272      1  \n",
      "[1 0]\n"
     ]
    }
   ],
   "source": [
    "# Put your code here\n",
    "label_mapping = {'+': 1, '-': 0}\n",
    "\n",
    "df['class'] = df['class'].replace(label_mapping)\n",
    "\n",
    "print(df.head())\n",
    "\n",
    "print(df['class'].unique())"
   ]
  },
  {
   "cell_type": "markdown",
   "metadata": {},
   "source": [
    "### 2.3 Separating the \"features\" from the \"labels\"\n",
    "\n",
    "As we've seen when working with `sklearn` it can be much easier to work with the data if we have separate variables that store the features and the labels.\n",
    "\n",
    "**&#9989; Task 2.3 (1 point):** Split your DataFrame so that you have two separate DataFrames, one called `features`, which contains all of the credit card approval features, and one called `labels`, which contains all of the *new* approval integer labels you just created. **Display both of these new DataFrames to make sure they look correct.**"
   ]
  },
  {
   "cell_type": "code",
   "execution_count": 13,
   "metadata": {},
   "outputs": [
    {
     "name": "stdout",
     "output_type": "stream",
     "text": [
      "Features DataFrame:\n",
      "                   var1      var2      var3      var4                  var5  \\\n",
      "0  -0.06173102354640747 -0.955920 -0.290872 -0.287892    0.1034783002693444   \n",
      "1     2.266444267315627 -0.060007  0.244013  0.740293   -0.8113307237034743   \n",
      "2   -0.5910898450678396 -0.855481 -0.216167 -0.493529    0.5522525384446895   \n",
      "3    -0.312611981613437 -0.646569  0.456175  0.534656  -0.48338031888302985   \n",
      "4   -0.9531946945445854  0.174015 -0.153415 -0.493529   -0.3683100014021721   \n",
      "\n",
      "       var6  \n",
      "0 -0.195272  \n",
      "1 -0.087788  \n",
      "2 -0.037117  \n",
      "3 -0.194696  \n",
      "4 -0.195272  \n",
      "\n",
      "Labels DataFrame:\n",
      "0    1\n",
      "1    1\n",
      "2    1\n",
      "3    1\n",
      "4    1\n",
      "Name: class, dtype: int64\n"
     ]
    }
   ],
   "source": [
    "# Put your code here\n",
    "import pandas as pd\n",
    "\n",
    "df['class'] = df['class'].replace(label_mapping)\n",
    "\n",
    "features = df.drop('class', axis=1)  \n",
    "labels = df['class']  \n",
    "\n",
    "print(\"Features DataFrame:\")\n",
    "print(features.head())\n",
    "print(\"\\nLabels DataFrame:\")\n",
    "print(labels.head())\n"
   ]
  },
  {
   "cell_type": "markdown",
   "metadata": {},
   "source": [
    "&#9989; **Question 2.1 (1 point):** How balanced are the classes? Does it matter for the set of classes to be balanced? Why or why not? (Include the code you used to determine this along with your written answer below.)"
   ]
  },
  {
   "cell_type": "markdown",
   "metadata": {},
   "source": [
    "<font size=+3>&#9998;</font> By running the code, you'll see how many instances of each class are present and their percentage of the total dataset. Yes, it matters. Imbalanced classes can lead the model to favor the majority class, reducing accuracy for the minority class. This can skew performance metrics and lead the model to perform poorly on unseen data, especially that which has a different distribution.Balancing is important especially in applications where the cost of false negatives is high, like in fraud detection or disease screening. "
   ]
  },
  {
   "cell_type": "code",
   "execution_count": 15,
   "metadata": {},
   "outputs": [
    {
     "name": "stdout",
     "output_type": "stream",
     "text": [
      "Class Counts:\n",
      "0    383\n",
      "1    307\n",
      "Name: class, dtype: int64\n",
      "\n",
      "Class Percentages:\n",
      "0    55.507246\n",
      "1    44.492754\n",
      "Name: class, dtype: float64\n"
     ]
    }
   ],
   "source": [
    "import pandas as pd\n",
    "\n",
    "\n",
    "# Create a mapping dictionary for class labels\n",
    "label_mapping = {'+': 1, '-': 0}\n",
    "\n",
    "# Replace the string labels in the 'Class' column using the mapping\n",
    "df['class'] = df['class'].replace(label_mapping)\n",
    "\n",
    "# Extract the labels into a separate DataFrame or Series\n",
    "labels = df['class']\n",
    "\n",
    "# Count the occurrences of each class and calculate the percentage of each class\n",
    "class_counts = labels.value_counts()\n",
    "class_percentages = labels.value_counts(normalize=True) * 100\n",
    "\n",
    "# Display the counts and percentages\n",
    "print(\"Class Counts:\")\n",
    "print(class_counts)\n",
    "print(\"\\nClass Percentages:\")\n",
    "print(class_percentages)"
   ]
  },
  {
   "cell_type": "markdown",
   "metadata": {},
   "source": [
    "---\n",
    "### &#128721; STOP\n",
    "**Pause to commit your changes to your Git repository!**\n",
    "\n",
    "Take a moment to save your notebook, commit the changes to your Git repository `hw04_branch` using the commit message \"Committing Part 2\", and push the changes to GitHub.\n",
    "\n",
    "---"
   ]
  },
  {
   "cell_type": "markdown",
   "metadata": {},
   "source": [
    "---\n",
    "## Part 3. Building an SVC model (5 points)\n",
    "\n",
    "Now, to tackle this classification problem, we will use a support vector machine. Of course, we could easily replace this with any `sklearn` classifier we choose, but for now we will just use an SVC with a linear kernel.\n",
    "\n",
    "### 3.1 Splitting the data\n",
    "\n",
    "But first, we need to split our data into training and testing data!\n",
    "\n",
    "**&#9989; Task 3.1 (2 point):** Split your data into a training and testing set with a training set representing 80% of your data. For reproducibility , set the `random_state` argument to `1`. Print the lengths to show you have the right number of entries."
   ]
  },
  {
   "cell_type": "code",
   "execution_count": 23,
   "metadata": {},
   "outputs": [
    {
     "name": "stdout",
     "output_type": "stream",
     "text": [
      "Accuracy: 0.717391304347826\n",
      "Classification Report:\n",
      "              precision    recall  f1-score   support\n",
      "\n",
      "           +       0.84      0.54      0.66        70\n",
      "           -       0.66      0.90      0.76        68\n",
      "\n",
      "    accuracy                           0.72       138\n",
      "   macro avg       0.75      0.72      0.71       138\n",
      "weighted avg       0.75      0.72      0.71       138\n",
      "\n"
     ]
    }
   ],
   "source": [
    "import pandas as pd\n",
    "from sklearn.model_selection import train_test_split\n",
    "from sklearn.svm import SVC\n",
    "from sklearn.metrics import classification_report, accuracy_score\n",
    "\n",
    "df = pd.read_csv('cc_data.csv')\n",
    "\n",
    "df.replace('?', pd.NA, inplace=True)\n",
    "\n",
    "\n",
    "for column in df.columns:\n",
    "    try:\n",
    "        df[column] = pd.to_numeric(df[column])\n",
    "        df[column].fillna(df[column].median(), inplace=True)\n",
    "    except ValueError:\n",
    "        df[column].fillna(df[column].mode()[0], inplace=True)\n",
    "\n",
    "features = df.drop('class', axis=1)\n",
    "labels = df['class']\n",
    "\n",
    "X_train, X_test, y_train, y_test = train_test_split(features, labels, test_size=0.2, random_state=42)\n",
    "\n",
    "svm_classifier = SVC(kernel='linear')\n",
    "\n",
    "svm_classifier.fit(X_train, y_train)\n",
    "\n",
    "predictions = svm_classifier.predict(X_test)\n",
    "\n",
    "accuracy = accuracy_score(y_test, predictions)\n",
    "report = classification_report(y_test, predictions)\n",
    "\n",
    "print(\"Accuracy:\", accuracy)\n",
    "print(\"Classification Report:\")\n",
    "print(report)\n"
   ]
  },
  {
   "cell_type": "markdown",
   "metadata": {},
   "source": [
    "### 3.2 Modeling the data and evaluating the fit\n",
    "\n",
    "As you have done this a number of times at this point, we ask you to do most of the analysis for this problem in one cell.\n",
    "\n",
    "**&#9989; Task 3.2 (2 points):** Build a **sigmoid** kernel SVC model with `C=10.0`, fit it to the training set, and use the test features to predict the outcomes. Evaluate the fit using the **confusion matrix** and **classification report**.\n",
    "\n",
    "**First Note:** Double-check the documentation on the confusion matrix because the way `sklearn` outputs false positives and false negatives may be different from what most images on the web indicate."
   ]
  },
  {
   "cell_type": "code",
   "execution_count": 24,
   "metadata": {},
   "outputs": [
    {
     "name": "stdout",
     "output_type": "stream",
     "text": [
      "Confusion Matrix:\n",
      "[[45 25]\n",
      " [22 46]]\n",
      "\n",
      "Classification Report:\n",
      "              precision    recall  f1-score   support\n",
      "\n",
      "           +       0.67      0.64      0.66        70\n",
      "           -       0.65      0.68      0.66        68\n",
      "\n",
      "    accuracy                           0.66       138\n",
      "   macro avg       0.66      0.66      0.66       138\n",
      "weighted avg       0.66      0.66      0.66       138\n",
      "\n"
     ]
    }
   ],
   "source": [
    "# Put your code here\n",
    "import pandas as pd\n",
    "from sklearn.model_selection import train_test_split\n",
    "from sklearn.svm import SVC\n",
    "from sklearn.metrics import confusion_matrix, classification_report\n",
    "\n",
    "df = pd.read_csv('cc_data.csv')\n",
    "\n",
    "df.replace('?', pd.NA, inplace=True)\n",
    "\n",
    "for column in df.columns:\n",
    "    try:\n",
    "        df[column] = pd.to_numeric(df[column])\n",
    "        df[column].fillna(df[column].median(), inplace=True)\n",
    "    except ValueError:\n",
    "        df[column].fillna(df[column].mode()[0], inplace=True)\n",
    "\n",
    "features = df.drop('class', axis=1)\n",
    "labels = df['class']\n",
    "\n",
    "X_train, X_test, y_train, y_test = train_test_split(features, labels, test_size=0.2, random_state=42)\n",
    "\n",
    "svm_classifier = SVC(kernel='sigmoid', C=10.0)\n",
    "\n",
    "svm_classifier.fit(X_train, y_train)\n",
    "\n",
    "predictions = svm_classifier.predict(X_test)\n",
    "\n",
    "conf_matrix = confusion_matrix(y_test, predictions)\n",
    "report = classification_report(y_test, predictions)\n",
    "\n",
    "print(\"Confusion Matrix:\")\n",
    "print(conf_matrix)\n",
    "print(\"\\nClassification Report:\")\n",
    "print(report)\n"
   ]
  },
  {
   "cell_type": "markdown",
   "metadata": {},
   "source": [
    "&#9989; **Question 3.1 (1 point):** How accurate is your model? What evidence are you using to determine that? How many false positives and false negatives does it predict for each class?"
   ]
  },
  {
   "cell_type": "markdown",
   "metadata": {},
   "source": [
    "<font size=+3>&#9998;</font> The accuracy of the model can be found by examining the accuracy score, which represents the ratio of correctly predicted observations to the total observations. You can calculate it using accuracy_score(y_test, predictions) from scikit-learn. \n",
    "onfusion Matrix: Provides a breakdown of true positives, true negatives, false positives, and false negatives.\n",
    "Classification Report: Includes precision, recall, f1-score, and support for each class, which are critical for assessing model performance, especially in cases of class imbalance.\n",
    "Accuracy Metric: A simple and straightforward metric that indicates overall performance.\n",
    "False Positives (FP): The top right element of the matrix shows the number of false positives — instances where the model incorrectly predicted the positive class.\n",
    "False Negatives (FN): The bottom left element of the matrix shows the number of false negatives — instances where the model incorrectly predicted the negative class."
   ]
  },
  {
   "cell_type": "markdown",
   "metadata": {},
   "source": [
    "---\n",
    "### &#128721; STOP\n",
    "**Pause to commit your changes to your Git repository!**\n",
    "\n",
    "Take a moment to save your notebook, commit the changes to your Git repository `hw04_branch` using the commit message \"Committing Part 3\", and push the changes to GitHub.\n",
    "\n",
    "---"
   ]
  },
  {
   "cell_type": "markdown",
   "metadata": {},
   "source": [
    "---\n",
    "## Part 4. Finding and using the best hyperparameters (8 points)\n",
    "\n",
    "At this point, we have fit one model and determined it's performance, but is it the best model? We can use `GridSearchCV` to find the best model (given our choices of parameters). Once we do that, we will use that \"best\" model for making predictions. \n",
    "\n",
    "\n",
    "### 4.1 Performing a grid search\n",
    "\n",
    "**&#9989; Task 4.1 (4 points):** Using the following parameters `C` = `0.1`, `1.0`, `10.0`, `100.0`, `1000.0` and `gamma` = `0.01`, `0.1`, `1.0`, `10.0` for a `linear`, `rbf`, and `sigmoid` kernels use `GridSearchCV` with the `SVC()` model to find the best fit parameters. Once, you're run the grid search, print the \"best params\" that the grid search found (*hint*: there's an attribute associated with the GridSearchCV object that stores this information). Note that this code could take a while to run since it is repeatedly training your SVM. "
   ]
  },
  {
   "cell_type": "code",
   "execution_count": 26,
   "metadata": {},
   "outputs": [
    {
     "name": "stdout",
     "output_type": "stream",
     "text": [
      "Fitting 3 folds for each of 60 candidates, totalling 180 fits\n",
      "Best parameters found by grid search are: {'C': 1000.0, 'gamma': 0.01, 'kernel': 'rbf'}\n",
      "[CV] END ......................C=0.1, gamma=0.01, kernel=rbf; total time=   0.0s\n",
      "[CV] END ..................C=0.1, gamma=0.01, kernel=sigmoid; total time=   0.0s\n",
      "[CV] END ....................C=0.1, gamma=0.1, kernel=linear; total time=   0.0s\n",
      "[CV] END ...................C=0.1, gamma=10.0, kernel=linear; total time=   0.0s\n",
      "[CV] END ......................C=1.0, gamma=0.01, kernel=rbf; total time=   0.0s\n",
      "[CV] END ....................C=1.0, gamma=0.1, kernel=linear; total time=   0.0s\n",
      "[CV] END ....................C=1.0, gamma=1.0, kernel=linear; total time=   0.0s\n",
      "[CV] END ....................C=1.0, gamma=1.0, kernel=linear; total time=   0.0s\n",
      "[CV] END ...................C=1.0, gamma=1.0, kernel=sigmoid; total time=   0.0s\n",
      "[CV] END ...................C=1.0, gamma=10.0, kernel=linear; total time=   0.0s\n",
      "[CV] END .................C=10.0, gamma=0.01, kernel=sigmoid; total time=   0.0s\n",
      "[CV] END ...................C=10.0, gamma=0.1, kernel=linear; total time=   0.0s\n",
      "[CV] END ...................C=10.0, gamma=0.1, kernel=linear; total time=   0.0s\n",
      "[CV] END ...................C=10.0, gamma=0.1, kernel=linear; total time=   0.0s\n",
      "[CV] END .................C=100.0, gamma=0.1, kernel=sigmoid; total time=   0.0s\n",
      "[CV] END .................C=100.0, gamma=0.1, kernel=sigmoid; total time=   0.0s\n",
      "[CV] END ..................C=100.0, gamma=1.0, kernel=linear; total time=   0.2s\n",
      "[CV] END ..................C=100.0, gamma=1.0, kernel=linear; total time=   0.1s\n",
      "[CV] END ...................C=1000.0, gamma=0.01, kernel=rbf; total time=   0.0s\n",
      "[CV] END .................C=1000.0, gamma=0.1, kernel=linear; total time=   0.9s\n",
      "[CV] END ...................C=1000.0, gamma=10.0, kernel=rbf; total time=   0.0s\n",
      "[CV] END ...................C=1000.0, gamma=10.0, kernel=rbf; total time=   0.0s\n",
      "[CV] END ...................C=1000.0, gamma=10.0, kernel=rbf; total time=   0.0s\n",
      "[CV] END ...............C=1000.0, gamma=10.0, kernel=sigmoid; total time=   0.0s\n",
      "[CV] END ...............C=1000.0, gamma=10.0, kernel=sigmoid; total time=   0.0s\n",
      "[CV] END ...............C=1000.0, gamma=10.0, kernel=sigmoid; total time=   0.0s\n",
      "[CV] END ...................C=0.1, gamma=0.01, kernel=linear; total time=   0.0s\n",
      "[CV] END .......................C=0.1, gamma=0.1, kernel=rbf; total time=   0.0s\n",
      "[CV] END ....................C=0.1, gamma=1.0, kernel=linear; total time=   0.0s\n",
      "[CV] END ...................C=0.1, gamma=10.0, kernel=linear; total time=   0.0s\n",
      "[CV] END ......................C=0.1, gamma=10.0, kernel=rbf; total time=   0.0s\n",
      "[CV] END ...................C=1.0, gamma=0.01, kernel=linear; total time=   0.0s\n",
      "[CV] END ..................C=1.0, gamma=0.01, kernel=sigmoid; total time=   0.0s\n",
      "[CV] END .......................C=1.0, gamma=0.1, kernel=rbf; total time=   0.1s\n",
      "[CV] END .......................C=1.0, gamma=0.1, kernel=rbf; total time=   0.0s\n",
      "[CV] END ......................C=10.0, gamma=0.1, kernel=rbf; total time=   0.0s\n",
      "[CV] END ......................C=10.0, gamma=0.1, kernel=rbf; total time=   0.0s\n",
      "[CV] END ......................C=10.0, gamma=0.1, kernel=rbf; total time=   0.0s\n",
      "[CV] END ..................C=10.0, gamma=0.1, kernel=sigmoid; total time=   0.0s\n",
      "[CV] END ....................C=100.0, gamma=0.01, kernel=rbf; total time=   0.0s\n",
      "[CV] END ....................C=100.0, gamma=0.01, kernel=rbf; total time=   0.0s\n",
      "[CV] END ................C=100.0, gamma=0.01, kernel=sigmoid; total time=   0.0s\n",
      "[CV] END ................C=100.0, gamma=0.01, kernel=sigmoid; total time=   0.0s\n",
      "[CV] END ....................C=100.0, gamma=10.0, kernel=rbf; total time=   0.0s\n",
      "[CV] END ................C=100.0, gamma=10.0, kernel=sigmoid; total time=   0.0s\n",
      "[CV] END ................C=100.0, gamma=10.0, kernel=sigmoid; total time=   0.0s\n",
      "[CV] END ................C=100.0, gamma=10.0, kernel=sigmoid; total time=   0.0s\n",
      "[CV] END ................C=1000.0, gamma=0.01, kernel=linear; total time=   1.3s\n",
      "[CV] END ......................C=0.1, gamma=0.01, kernel=rbf; total time=   0.0s\n",
      "[CV] END ....................C=0.1, gamma=0.1, kernel=linear; total time=   0.0s\n",
      "[CV] END ....................C=0.1, gamma=1.0, kernel=linear; total time=   0.0s\n",
      "[CV] END ...................C=0.1, gamma=1.0, kernel=sigmoid; total time=   0.0s\n",
      "[CV] END ......................C=0.1, gamma=10.0, kernel=rbf; total time=   0.0s\n",
      "[CV] END ..................C=1.0, gamma=0.01, kernel=sigmoid; total time=   0.0s\n",
      "[CV] END ....................C=1.0, gamma=0.1, kernel=linear; total time=   0.0s\n",
      "[CV] END ...................C=1.0, gamma=10.0, kernel=linear; total time=   0.0s\n",
      "[CV] END ...................C=1.0, gamma=10.0, kernel=linear; total time=   0.0s\n",
      "[CV] END ..................C=10.0, gamma=0.01, kernel=linear; total time=   0.0s\n",
      "[CV] END .....................C=10.0, gamma=0.01, kernel=rbf; total time=   0.0s\n",
      "[CV] END ...................C=10.0, gamma=1.0, kernel=linear; total time=   0.0s\n",
      "[CV] END ......................C=10.0, gamma=1.0, kernel=rbf; total time=   0.0s\n",
      "[CV] END ......................C=10.0, gamma=1.0, kernel=rbf; total time=   0.1s\n",
      "[CV] END ......................C=10.0, gamma=1.0, kernel=rbf; total time=   0.0s\n",
      "[CV] END .................C=100.0, gamma=10.0, kernel=linear; total time=   0.1s\n",
      "[CV] END .................C=100.0, gamma=10.0, kernel=linear; total time=   0.1s\n",
      "[CV] END ....................C=100.0, gamma=10.0, kernel=rbf; total time=   0.0s\n",
      "[CV] END ....................C=100.0, gamma=10.0, kernel=rbf; total time=   0.0s\n",
      "[CV] END ...................C=1000.0, gamma=0.01, kernel=rbf; total time=   0.0s\n",
      "[CV] END .................C=1000.0, gamma=0.1, kernel=linear; total time=   1.3s\n",
      "[CV] END ..................C=0.1, gamma=0.01, kernel=sigmoid; total time=   0.0s\n",
      "[CV] END .......................C=0.1, gamma=1.0, kernel=rbf; total time=   0.0s\n",
      "[CV] END ...................C=0.1, gamma=10.0, kernel=linear; total time=   0.0s\n",
      "[CV] END ...................C=1.0, gamma=0.01, kernel=linear; total time=   0.0s\n",
      "[CV] END ....................C=1.0, gamma=0.1, kernel=linear; total time=   0.0s\n",
      "[CV] END ....................C=1.0, gamma=1.0, kernel=linear; total time=   0.0s\n",
      "[CV] END .......................C=1.0, gamma=1.0, kernel=rbf; total time=   0.0s\n",
      "[CV] END ..................C=10.0, gamma=0.01, kernel=linear; total time=   0.0s\n",
      "[CV] END ..................C=10.0, gamma=0.01, kernel=linear; total time=   0.0s\n",
      "[CV] END .................C=100.0, gamma=0.01, kernel=linear; total time=   0.2s\n",
      "[CV] END .................C=100.0, gamma=0.01, kernel=linear; total time=   0.1s\n",
      "[CV] END .................C=100.0, gamma=0.01, kernel=linear; total time=   0.1s\n",
      "[CV] END ....................C=100.0, gamma=0.01, kernel=rbf; total time=   0.0s\n",
      "[CV] END ...............C=1000.0, gamma=0.01, kernel=sigmoid; total time=   0.0s\n",
      "[CV] END ...............C=1000.0, gamma=0.01, kernel=sigmoid; total time=   0.0s\n",
      "[CV] END ....................C=1000.0, gamma=0.1, kernel=rbf; total time=   0.1s\n",
      "[CV] END ................C=1000.0, gamma=0.1, kernel=sigmoid; total time=   0.0s\n",
      "[CV] END ................C=1000.0, gamma=0.1, kernel=sigmoid; total time=   0.0s\n",
      "[CV] END .................C=1000.0, gamma=1.0, kernel=linear; total time=   1.1s\n",
      "[CV] END ......................C=0.1, gamma=0.01, kernel=rbf; total time=   0.0s\n",
      "[CV] END ...................C=0.1, gamma=0.1, kernel=sigmoid; total time=   0.0s\n",
      "[CV] END .......................C=0.1, gamma=1.0, kernel=rbf; total time=   0.0s\n",
      "[CV] END ..................C=0.1, gamma=10.0, kernel=sigmoid; total time=   0.0s\n",
      "[CV] END .......................C=1.0, gamma=0.1, kernel=rbf; total time=   0.0s\n",
      "[CV] END ...................C=1.0, gamma=0.1, kernel=sigmoid; total time=   0.0s\n",
      "[CV] END ......................C=1.0, gamma=10.0, kernel=rbf; total time=   0.0s\n",
      "[CV] END ..................C=1.0, gamma=10.0, kernel=sigmoid; total time=   0.0s\n",
      "[CV] END ..................C=10.0, gamma=0.1, kernel=sigmoid; total time=   0.0s\n",
      "[CV] END ..................C=10.0, gamma=0.1, kernel=sigmoid; total time=   0.0s\n",
      "[CV] END ...................C=10.0, gamma=1.0, kernel=linear; total time=   0.0s\n",
      "[CV] END ...................C=10.0, gamma=1.0, kernel=linear; total time=   0.0s\n",
      "[CV] END .....................C=100.0, gamma=0.1, kernel=rbf; total time=   0.0s\n",
      "[CV] END .....................C=100.0, gamma=0.1, kernel=rbf; total time=   0.0s\n",
      "[CV] END .....................C=100.0, gamma=0.1, kernel=rbf; total time=   0.0s\n",
      "[CV] END .................C=100.0, gamma=0.1, kernel=sigmoid; total time=   0.0s\n",
      "[CV] END ................C=1000.0, gamma=0.01, kernel=linear; total time=   0.8s\n",
      "[CV] END .................C=1000.0, gamma=1.0, kernel=linear; total time=   0.7s\n",
      "[CV] END ...................C=0.1, gamma=0.01, kernel=linear; total time=   0.0s\n",
      "[CV] END .......................C=0.1, gamma=0.1, kernel=rbf; total time=   0.0s\n",
      "[CV] END ...................C=0.1, gamma=0.1, kernel=sigmoid; total time=   0.0s\n",
      "[CV] END ...................C=0.1, gamma=1.0, kernel=sigmoid; total time=   0.0s\n",
      "[CV] END ..................C=0.1, gamma=10.0, kernel=sigmoid; total time=   0.0s\n",
      "[CV] END ...................C=1.0, gamma=0.01, kernel=linear; total time=   0.0s\n",
      "[CV] END ..................C=1.0, gamma=0.01, kernel=sigmoid; total time=   0.0s\n",
      "[CV] END ...................C=1.0, gamma=1.0, kernel=sigmoid; total time=   0.0s\n",
      "[CV] END ...................C=1.0, gamma=1.0, kernel=sigmoid; total time=   0.0s\n",
      "[CV] END .....................C=10.0, gamma=0.01, kernel=rbf; total time=   0.0s\n",
      "[CV] END .....................C=10.0, gamma=0.01, kernel=rbf; total time=   0.0s\n",
      "[CV] END ..................C=10.0, gamma=10.0, kernel=linear; total time=   0.0s\n",
      "[CV] END ..................C=10.0, gamma=10.0, kernel=linear; total time=   0.0s\n",
      "[CV] END .....................C=10.0, gamma=10.0, kernel=rbf; total time=   0.0s\n",
      "[CV] END .....................C=10.0, gamma=10.0, kernel=rbf; total time=   0.0s\n",
      "[CV] END .................C=100.0, gamma=1.0, kernel=sigmoid; total time=   0.0s\n",
      "[CV] END .................C=100.0, gamma=1.0, kernel=sigmoid; total time=   0.0s\n",
      "[CV] END .................C=100.0, gamma=1.0, kernel=sigmoid; total time=   0.0s\n",
      "[CV] END .................C=100.0, gamma=10.0, kernel=linear; total time=   0.2s\n",
      "[CV] END ...................C=1000.0, gamma=0.01, kernel=rbf; total time=   0.0s\n",
      "[CV] END ...............C=1000.0, gamma=0.01, kernel=sigmoid; total time=   0.0s\n",
      "[CV] END .................C=1000.0, gamma=0.1, kernel=linear; total time=   0.8s\n",
      "[CV] END ....................C=1000.0, gamma=1.0, kernel=rbf; total time=   0.0s\n",
      "[CV] END ................C=1000.0, gamma=1.0, kernel=sigmoid; total time=   0.0s\n",
      "[CV] END ................C=1000.0, gamma=10.0, kernel=linear; total time=   0.5s\n",
      "[CV] END ..................C=0.1, gamma=0.01, kernel=sigmoid; total time=   0.0s\n",
      "[CV] END .......................C=0.1, gamma=0.1, kernel=rbf; total time=   0.0s\n",
      "[CV] END ....................C=0.1, gamma=1.0, kernel=linear; total time=   0.0s\n",
      "[CV] END ...................C=0.1, gamma=1.0, kernel=sigmoid; total time=   0.0s\n",
      "[CV] END ..................C=0.1, gamma=10.0, kernel=sigmoid; total time=   0.0s\n",
      "[CV] END ......................C=1.0, gamma=0.01, kernel=rbf; total time=   0.0s\n",
      "[CV] END ...................C=1.0, gamma=0.1, kernel=sigmoid; total time=   0.0s\n",
      "[CV] END ...................C=1.0, gamma=0.1, kernel=sigmoid; total time=   0.0s\n",
      "[CV] END ..................C=1.0, gamma=10.0, kernel=sigmoid; total time=   0.0s\n",
      "[CV] END ..................C=1.0, gamma=10.0, kernel=sigmoid; total time=   0.0s\n",
      "[CV] END .................C=10.0, gamma=0.01, kernel=sigmoid; total time=   0.0s\n",
      "[CV] END .................C=10.0, gamma=0.01, kernel=sigmoid; total time=   0.0s\n",
      "[CV] END .....................C=10.0, gamma=10.0, kernel=rbf; total time=   0.0s\n",
      "[CV] END .................C=10.0, gamma=10.0, kernel=sigmoid; total time=   0.0s\n",
      "[CV] END .................C=10.0, gamma=10.0, kernel=sigmoid; total time=   0.0s\n",
      "[CV] END .................C=10.0, gamma=10.0, kernel=sigmoid; total time=   0.0s\n",
      "[CV] END ..................C=100.0, gamma=1.0, kernel=linear; total time=   0.1s\n",
      "[CV] END .....................C=100.0, gamma=1.0, kernel=rbf; total time=   0.0s\n",
      "[CV] END .....................C=100.0, gamma=1.0, kernel=rbf; total time=   0.0s\n",
      "[CV] END .....................C=100.0, gamma=1.0, kernel=rbf; total time=   0.1s\n",
      "[CV] END ................C=1000.0, gamma=0.01, kernel=linear; total time=   0.9s\n",
      "[CV] END ....................C=1000.0, gamma=1.0, kernel=rbf; total time=   0.0s\n",
      "[CV] END ....................C=1000.0, gamma=1.0, kernel=rbf; total time=   0.1s\n",
      "[CV] END ................C=1000.0, gamma=1.0, kernel=sigmoid; total time=   0.0s\n",
      "[CV] END ................C=1000.0, gamma=1.0, kernel=sigmoid; total time=   0.0s\n",
      "[CV] END ................C=1000.0, gamma=10.0, kernel=linear; total time=   0.6s\n",
      "[CV] END ...................C=0.1, gamma=0.01, kernel=linear; total time=   0.0s\n",
      "[CV] END ....................C=0.1, gamma=0.1, kernel=linear; total time=   0.0s\n",
      "[CV] END ...................C=0.1, gamma=0.1, kernel=sigmoid; total time=   0.0s\n",
      "[CV] END .......................C=0.1, gamma=1.0, kernel=rbf; total time=   0.0s\n",
      "[CV] END ......................C=0.1, gamma=10.0, kernel=rbf; total time=   0.0s\n",
      "[CV] END ......................C=1.0, gamma=0.01, kernel=rbf; total time=   0.0s\n",
      "[CV] END .......................C=1.0, gamma=1.0, kernel=rbf; total time=   0.0s\n",
      "[CV] END .......................C=1.0, gamma=1.0, kernel=rbf; total time=   0.0s\n",
      "[CV] END ......................C=1.0, gamma=10.0, kernel=rbf; total time=   0.1s\n",
      "[CV] END ......................C=1.0, gamma=10.0, kernel=rbf; total time=   0.0s\n",
      "[CV] END ..................C=10.0, gamma=1.0, kernel=sigmoid; total time=   0.0s\n",
      "[CV] END ..................C=10.0, gamma=1.0, kernel=sigmoid; total time=   0.0s\n",
      "[CV] END ..................C=10.0, gamma=1.0, kernel=sigmoid; total time=   0.0s\n",
      "[CV] END ..................C=10.0, gamma=10.0, kernel=linear; total time=   0.0s\n",
      "[CV] END ................C=100.0, gamma=0.01, kernel=sigmoid; total time=   0.0s\n",
      "[CV] END ..................C=100.0, gamma=0.1, kernel=linear; total time=   0.2s\n",
      "[CV] END ..................C=100.0, gamma=0.1, kernel=linear; total time=   0.1s\n",
      "[CV] END ..................C=100.0, gamma=0.1, kernel=linear; total time=   0.1s\n",
      "[CV] END ....................C=1000.0, gamma=0.1, kernel=rbf; total time=   0.1s\n",
      "[CV] END ....................C=1000.0, gamma=0.1, kernel=rbf; total time=   0.1s\n",
      "[CV] END ................C=1000.0, gamma=0.1, kernel=sigmoid; total time=   0.0s\n",
      "[CV] END .................C=1000.0, gamma=1.0, kernel=linear; total time=   0.7s\n",
      "[CV] END ................C=1000.0, gamma=10.0, kernel=linear; total time=   0.8s\n"
     ]
    }
   ],
   "source": [
    "# Put your code here\n",
    "import pandas as pd\n",
    "from sklearn.model_selection import train_test_split, GridSearchCV\n",
    "from sklearn.svm import SVC\n",
    "from sklearn.metrics import classification_report, accuracy_score\n",
    "\n",
    "df = pd.read_csv('cc_data.csv')\n",
    "\n",
    "df.replace('?', pd.NA, inplace=True)\n",
    "\n",
    "for column in df.columns:\n",
    "    try:\n",
    "        df[column] = pd.to_numeric(df[column])\n",
    "        df[column].fillna(df[column].median(), inplace=True)\n",
    "    except ValueError:\n",
    "        df[column].fillna(df[column].mode()[0], inplace=True)\n",
    "\n",
    "features = df.drop('class', axis=1)\n",
    "labels = df['class']\n",
    "\n",
    "X_train, X_test, y_train, y_test = train_test_split(features, labels, test_size=0.2, random_state=42)\n",
    "\n",
    "param_grid = {\n",
    "    'C': [0.1, 1.0, 10.0, 100.0, 1000.0],\n",
    "    'gamma': [0.01, 0.1, 1.0, 10.0],\n",
    "    'kernel': ['linear', 'rbf', 'sigmoid']\n",
    "}\n",
    "\n",
    "svm_classifier = SVC()\n",
    "\n",
    "grid_search = GridSearchCV(estimator=svm_classifier, param_grid=param_grid, n_jobs=-1, verbose=2, cv=3)\n",
    "\n",
    "grid_search.fit(X_train, y_train)\n",
    "\n",
    "print(\"Best parameters found by grid search are:\", grid_search.best_params_)\n"
   ]
  },
  {
   "cell_type": "markdown",
   "metadata": {},
   "source": [
    "&#9989; **Question 4.1 (1 point):** How do the \"best params\" results of the grid search compare to what you used in Part 3? Did the hyper parameter(s) change? What kernel did the grid search determine was the best option? "
   ]
  },
  {
   "cell_type": "markdown",
   "metadata": {},
   "source": [
    "<font size=+3>&#9998;</font> If the best params show different values or a different kernel than you initially used, it suggests these new settings may better capture the complexities of your dataset.\n",
    "Evaluate these results to see if higher or lower regularization (changes in C) and kernel type improve model accuracy and generalizability."
   ]
  },
  {
   "cell_type": "markdown",
   "metadata": {},
   "source": [
    "### 4.2 Evaluating the best fit model\n",
    "\n",
    "Now that we have found the \"best params\", let's determine how good the fit is.\n",
    "\n",
    "**&#9989; Task 4.2 (2 points):** Use the test features to predict the outcomes for the best model. Evaluate the fit using the **confusion matrix** and **classification report**.\n",
    "\n",
    "**Note:** Double-check the documentation on the confusion matrix because the way `sklearn` outputs false positives and false negatives may be different from what most images on the web indicate."
   ]
  },
  {
   "cell_type": "code",
   "execution_count": 28,
   "metadata": {},
   "outputs": [
    {
     "name": "stdout",
     "output_type": "stream",
     "text": [
      "Fitting 3 folds for each of 60 candidates, totalling 180 fits\n",
      "Confusion Matrix:\n",
      "[[41 29]\n",
      " [ 5 63]]\n",
      "\n",
      "Classification Report:\n",
      "              precision    recall  f1-score   support\n",
      "\n",
      "           +       0.89      0.59      0.71        70\n",
      "           -       0.68      0.93      0.79        68\n",
      "\n",
      "    accuracy                           0.75       138\n",
      "   macro avg       0.79      0.76      0.75       138\n",
      "weighted avg       0.79      0.75      0.75       138\n",
      "\n",
      "[CV] END ...................C=0.1, gamma=0.01, kernel=linear; total time=   0.0s\n",
      "[CV] END ....................C=0.1, gamma=0.1, kernel=linear; total time=   0.0s\n",
      "[CV] END ....................C=0.1, gamma=0.1, kernel=linear; total time=   0.0s\n",
      "[CV] END ....................C=0.1, gamma=1.0, kernel=linear; total time=   0.0s\n",
      "[CV] END ...................C=0.1, gamma=1.0, kernel=sigmoid; total time=   0.0s\n",
      "[CV] END ...................C=0.1, gamma=10.0, kernel=linear; total time=   0.0s\n",
      "[CV] END ..................C=0.1, gamma=10.0, kernel=sigmoid; total time=   0.0s\n",
      "[CV] END ..................C=1.0, gamma=0.01, kernel=sigmoid; total time=   0.0s\n",
      "[CV] END .......................C=1.0, gamma=0.1, kernel=rbf; total time=   0.0s\n",
      "[CV] END .......................C=1.0, gamma=0.1, kernel=rbf; total time=   0.0s\n",
      "[CV] END .......................C=1.0, gamma=1.0, kernel=rbf; total time=   0.0s\n",
      "[CV] END .......................C=1.0, gamma=1.0, kernel=rbf; total time=   0.0s\n",
      "[CV] END ..................C=10.0, gamma=0.01, kernel=linear; total time=   0.0s\n",
      "[CV] END .....................C=10.0, gamma=0.01, kernel=rbf; total time=   0.0s\n",
      "[CV] END ..................C=10.0, gamma=10.0, kernel=linear; total time=   0.0s\n",
      "[CV] END ..................C=10.0, gamma=10.0, kernel=linear; total time=   0.0s\n",
      "[CV] END .....................C=10.0, gamma=10.0, kernel=rbf; total time=   0.0s\n",
      "[CV] END .....................C=10.0, gamma=10.0, kernel=rbf; total time=   0.0s\n",
      "[CV] END .................C=100.0, gamma=10.0, kernel=linear; total time=   0.1s\n",
      "[CV] END .................C=100.0, gamma=10.0, kernel=linear; total time=   0.1s\n",
      "[CV] END ....................C=100.0, gamma=10.0, kernel=rbf; total time=   0.0s\n",
      "[CV] END ....................C=100.0, gamma=10.0, kernel=rbf; total time=   0.0s\n",
      "[CV] END ...................C=1000.0, gamma=0.01, kernel=rbf; total time=   0.0s\n",
      "[CV] END .................C=1000.0, gamma=0.1, kernel=linear; total time=   0.9s\n",
      "[CV] END ...................C=1000.0, gamma=10.0, kernel=rbf; total time=   0.0s\n",
      "[CV] END ...................C=1000.0, gamma=10.0, kernel=rbf; total time=   0.0s\n",
      "[CV] END ...................C=1000.0, gamma=10.0, kernel=rbf; total time=   0.0s\n",
      "[CV] END ...............C=1000.0, gamma=10.0, kernel=sigmoid; total time=   0.0s\n",
      "[CV] END ...............C=1000.0, gamma=10.0, kernel=sigmoid; total time=   0.0s\n",
      "[CV] END ...............C=1000.0, gamma=10.0, kernel=sigmoid; total time=   0.0s\n",
      "[CV] END ...................C=0.1, gamma=0.01, kernel=linear; total time=   0.0s\n",
      "[CV] END ....................C=0.1, gamma=0.1, kernel=linear; total time=   0.0s\n",
      "[CV] END ...................C=0.1, gamma=0.1, kernel=sigmoid; total time=   0.0s\n",
      "[CV] END .......................C=0.1, gamma=1.0, kernel=rbf; total time=   0.0s\n",
      "[CV] END ....................C=1.0, gamma=0.1, kernel=linear; total time=   0.0s\n",
      "[CV] END ......................C=1.0, gamma=10.0, kernel=rbf; total time=   0.0s\n",
      "[CV] END ......................C=1.0, gamma=10.0, kernel=rbf; total time=   0.0s\n",
      "[CV] END ..................C=10.0, gamma=1.0, kernel=sigmoid; total time=   0.0s\n",
      "[CV] END ..................C=10.0, gamma=1.0, kernel=sigmoid; total time=   0.0s\n",
      "[CV] END ..................C=10.0, gamma=1.0, kernel=sigmoid; total time=   0.0s\n",
      "[CV] END ..................C=10.0, gamma=10.0, kernel=linear; total time=   0.0s\n",
      "[CV] END ....................C=100.0, gamma=0.01, kernel=rbf; total time=   0.0s\n",
      "[CV] END ....................C=100.0, gamma=0.01, kernel=rbf; total time=   0.0s\n",
      "[CV] END ................C=100.0, gamma=0.01, kernel=sigmoid; total time=   0.0s\n",
      "[CV] END ................C=100.0, gamma=0.01, kernel=sigmoid; total time=   0.0s\n",
      "[CV] END ....................C=100.0, gamma=10.0, kernel=rbf; total time=   0.0s\n",
      "[CV] END ................C=100.0, gamma=10.0, kernel=sigmoid; total time=   0.0s\n",
      "[CV] END ................C=100.0, gamma=10.0, kernel=sigmoid; total time=   0.0s\n",
      "[CV] END ................C=100.0, gamma=10.0, kernel=sigmoid; total time=   0.0s\n",
      "[CV] END ................C=1000.0, gamma=0.01, kernel=linear; total time=   1.2s\n",
      "[CV] END ......................C=0.1, gamma=0.01, kernel=rbf; total time=   0.0s\n",
      "[CV] END ....................C=0.1, gamma=1.0, kernel=linear; total time=   0.0s\n",
      "[CV] END ...................C=0.1, gamma=1.0, kernel=sigmoid; total time=   0.0s\n",
      "[CV] END ......................C=0.1, gamma=10.0, kernel=rbf; total time=   0.0s\n",
      "[CV] END ......................C=1.0, gamma=0.01, kernel=rbf; total time=   0.0s\n",
      "[CV] END ....................C=1.0, gamma=1.0, kernel=linear; total time=   0.0s\n",
      "[CV] END .......................C=1.0, gamma=1.0, kernel=rbf; total time=   0.0s\n",
      "[CV] END .....................C=10.0, gamma=0.01, kernel=rbf; total time=   0.0s\n",
      "[CV] END .....................C=10.0, gamma=0.01, kernel=rbf; total time=   0.0s\n",
      "[CV] END .................C=100.0, gamma=0.01, kernel=linear; total time=   0.1s\n",
      "[CV] END .................C=100.0, gamma=0.01, kernel=linear; total time=   0.1s\n",
      "[CV] END .................C=100.0, gamma=0.01, kernel=linear; total time=   0.1s\n",
      "[CV] END ....................C=100.0, gamma=0.01, kernel=rbf; total time=   0.0s\n",
      "[CV] END ...............C=1000.0, gamma=0.01, kernel=sigmoid; total time=   0.0s\n",
      "[CV] END .................C=1000.0, gamma=0.1, kernel=linear; total time=   1.1s\n",
      "[CV] END ......................C=0.1, gamma=0.01, kernel=rbf; total time=   0.0s\n",
      "[CV] END ...................C=0.1, gamma=0.1, kernel=sigmoid; total time=   0.0s\n",
      "[CV] END ...................C=0.1, gamma=10.0, kernel=linear; total time=   0.0s\n",
      "[CV] END ..................C=0.1, gamma=10.0, kernel=sigmoid; total time=   0.0s\n",
      "[CV] END ......................C=1.0, gamma=0.01, kernel=rbf; total time=   0.0s\n",
      "[CV] END ...................C=1.0, gamma=1.0, kernel=sigmoid; total time=   0.0s\n",
      "[CV] END ...................C=1.0, gamma=1.0, kernel=sigmoid; total time=   0.0s\n",
      "[CV] END ......................C=1.0, gamma=10.0, kernel=rbf; total time=   0.0s\n",
      "[CV] END ..................C=1.0, gamma=10.0, kernel=sigmoid; total time=   0.0s\n",
      "[CV] END ..................C=10.0, gamma=0.1, kernel=sigmoid; total time=   0.0s\n",
      "[CV] END ..................C=10.0, gamma=0.1, kernel=sigmoid; total time=   0.0s\n",
      "[CV] END ...................C=10.0, gamma=1.0, kernel=linear; total time=   0.0s\n",
      "[CV] END ...................C=10.0, gamma=1.0, kernel=linear; total time=   0.0s\n",
      "[CV] END .....................C=100.0, gamma=0.1, kernel=rbf; total time=   0.0s\n",
      "[CV] END .....................C=100.0, gamma=0.1, kernel=rbf; total time=   0.0s\n",
      "[CV] END .....................C=100.0, gamma=0.1, kernel=rbf; total time=   0.0s\n",
      "[CV] END .................C=100.0, gamma=0.1, kernel=sigmoid; total time=   0.0s\n",
      "[CV] END ................C=1000.0, gamma=0.01, kernel=linear; total time=   0.6s\n",
      "[CV] END .................C=1000.0, gamma=1.0, kernel=linear; total time=   0.8s\n",
      "[CV] END ..................C=0.1, gamma=0.01, kernel=sigmoid; total time=   0.0s\n",
      "[CV] END ...................C=0.1, gamma=0.1, kernel=sigmoid; total time=   0.0s\n",
      "[CV] END ...................C=0.1, gamma=10.0, kernel=linear; total time=   0.0s\n",
      "[CV] END ..................C=0.1, gamma=10.0, kernel=sigmoid; total time=   0.0s\n",
      "[CV] END ..................C=10.0, gamma=0.01, kernel=linear; total time=   0.0s\n",
      "[CV] END ..................C=10.0, gamma=0.01, kernel=linear; total time=   0.0s\n",
      "[CV] END .....................C=10.0, gamma=10.0, kernel=rbf; total time=   0.0s\n",
      "[CV] END .................C=10.0, gamma=10.0, kernel=sigmoid; total time=   0.0s\n",
      "[CV] END .................C=10.0, gamma=10.0, kernel=sigmoid; total time=   0.0s\n",
      "[CV] END .................C=10.0, gamma=10.0, kernel=sigmoid; total time=   0.0s\n",
      "[CV] END .................C=100.0, gamma=0.1, kernel=sigmoid; total time=   0.0s\n",
      "[CV] END .................C=100.0, gamma=0.1, kernel=sigmoid; total time=   0.0s\n",
      "[CV] END ..................C=100.0, gamma=1.0, kernel=linear; total time=   0.2s\n",
      "[CV] END ..................C=100.0, gamma=1.0, kernel=linear; total time=   0.1s\n",
      "[CV] END ...............C=1000.0, gamma=0.01, kernel=sigmoid; total time=   0.0s\n",
      "[CV] END ...............C=1000.0, gamma=0.01, kernel=sigmoid; total time=   0.0s\n",
      "[CV] END ....................C=1000.0, gamma=0.1, kernel=rbf; total time=   0.1s\n",
      "[CV] END ....................C=1000.0, gamma=0.1, kernel=rbf; total time=   0.1s\n",
      "[CV] END .................C=1000.0, gamma=1.0, kernel=linear; total time=   1.1s\n",
      "[CV] END ..................C=0.1, gamma=0.01, kernel=sigmoid; total time=   0.0s\n",
      "[CV] END .......................C=0.1, gamma=0.1, kernel=rbf; total time=   0.0s\n",
      "[CV] END ....................C=0.1, gamma=1.0, kernel=linear; total time=   0.0s\n",
      "[CV] END ...................C=0.1, gamma=1.0, kernel=sigmoid; total time=   0.0s\n",
      "[CV] END ......................C=0.1, gamma=10.0, kernel=rbf; total time=   0.0s\n",
      "[CV] END ...................C=1.0, gamma=0.01, kernel=linear; total time=   0.0s\n",
      "[CV] END ..................C=1.0, gamma=0.01, kernel=sigmoid; total time=   0.0s\n",
      "[CV] END ....................C=1.0, gamma=0.1, kernel=linear; total time=   0.0s\n",
      "[CV] END .......................C=1.0, gamma=0.1, kernel=rbf; total time=   0.0s\n",
      "[CV] END ...................C=1.0, gamma=0.1, kernel=sigmoid; total time=   0.0s\n",
      "[CV] END ...................C=1.0, gamma=10.0, kernel=linear; total time=   0.0s\n",
      "[CV] END ...................C=1.0, gamma=10.0, kernel=linear; total time=   0.0s\n",
      "[CV] END .................C=10.0, gamma=0.01, kernel=sigmoid; total time=   0.0s\n",
      "[CV] END ...................C=10.0, gamma=0.1, kernel=linear; total time=   0.0s\n",
      "[CV] END ...................C=10.0, gamma=0.1, kernel=linear; total time=   0.0s\n",
      "[CV] END ...................C=10.0, gamma=0.1, kernel=linear; total time=   0.0s\n",
      "[CV] END ................C=100.0, gamma=0.01, kernel=sigmoid; total time=   0.0s\n",
      "[CV] END ..................C=100.0, gamma=0.1, kernel=linear; total time=   0.2s\n",
      "[CV] END ..................C=100.0, gamma=0.1, kernel=linear; total time=   0.1s\n",
      "[CV] END ..................C=100.0, gamma=0.1, kernel=linear; total time=   0.1s\n",
      "[CV] END ....................C=1000.0, gamma=0.1, kernel=rbf; total time=   0.1s\n",
      "[CV] END ................C=1000.0, gamma=0.1, kernel=sigmoid; total time=   0.0s\n",
      "[CV] END ................C=1000.0, gamma=0.1, kernel=sigmoid; total time=   0.0s\n",
      "[CV] END ................C=1000.0, gamma=0.1, kernel=sigmoid; total time=   0.0s\n",
      "[CV] END .................C=1000.0, gamma=1.0, kernel=linear; total time=   0.7s\n",
      "[CV] END ................C=1000.0, gamma=10.0, kernel=linear; total time=   0.5s\n",
      "[CV] END ...................C=0.1, gamma=0.01, kernel=linear; total time=   0.0s\n",
      "[CV] END ..................C=0.1, gamma=0.01, kernel=sigmoid; total time=   0.0s\n",
      "[CV] END .......................C=0.1, gamma=0.1, kernel=rbf; total time=   0.0s\n",
      "[CV] END .......................C=0.1, gamma=1.0, kernel=rbf; total time=   0.0s\n",
      "[CV] END ......................C=0.1, gamma=10.0, kernel=rbf; total time=   0.0s\n",
      "[CV] END ...................C=1.0, gamma=0.01, kernel=linear; total time=   0.0s\n",
      "[CV] END ..................C=1.0, gamma=0.01, kernel=sigmoid; total time=   0.0s\n",
      "[CV] END ....................C=1.0, gamma=0.1, kernel=linear; total time=   0.0s\n",
      "[CV] END ...................C=1.0, gamma=0.1, kernel=sigmoid; total time=   0.0s\n",
      "[CV] END ...................C=1.0, gamma=0.1, kernel=sigmoid; total time=   0.0s\n",
      "[CV] END ..................C=1.0, gamma=10.0, kernel=sigmoid; total time=   0.0s\n",
      "[CV] END ..................C=1.0, gamma=10.0, kernel=sigmoid; total time=   0.0s\n",
      "[CV] END ......................C=10.0, gamma=0.1, kernel=rbf; total time=   0.0s\n",
      "[CV] END ......................C=10.0, gamma=0.1, kernel=rbf; total time=   0.0s\n",
      "[CV] END ......................C=10.0, gamma=0.1, kernel=rbf; total time=   0.0s\n",
      "[CV] END ..................C=10.0, gamma=0.1, kernel=sigmoid; total time=   0.0s\n",
      "[CV] END ..................C=100.0, gamma=1.0, kernel=linear; total time=   0.1s\n",
      "[CV] END .....................C=100.0, gamma=1.0, kernel=rbf; total time=   0.0s\n",
      "[CV] END .....................C=100.0, gamma=1.0, kernel=rbf; total time=   0.0s\n",
      "[CV] END .....................C=100.0, gamma=1.0, kernel=rbf; total time=   0.0s\n",
      "[CV] END ................C=1000.0, gamma=0.01, kernel=linear; total time=   0.8s\n",
      "[CV] END ....................C=1000.0, gamma=1.0, kernel=rbf; total time=   0.0s\n",
      "[CV] END ....................C=1000.0, gamma=1.0, kernel=rbf; total time=   0.0s\n",
      "[CV] END ................C=1000.0, gamma=1.0, kernel=sigmoid; total time=   0.0s\n",
      "[CV] END ................C=1000.0, gamma=10.0, kernel=linear; total time=   0.6s\n",
      "[CV] END ......................C=0.1, gamma=0.01, kernel=rbf; total time=   0.0s\n",
      "[CV] END .......................C=0.1, gamma=0.1, kernel=rbf; total time=   0.0s\n",
      "[CV] END .......................C=0.1, gamma=1.0, kernel=rbf; total time=   0.0s\n",
      "[CV] END ...................C=1.0, gamma=0.01, kernel=linear; total time=   0.0s\n",
      "[CV] END ......................C=1.0, gamma=0.01, kernel=rbf; total time=   0.0s\n",
      "[CV] END ....................C=1.0, gamma=1.0, kernel=linear; total time=   0.0s\n",
      "[CV] END ....................C=1.0, gamma=1.0, kernel=linear; total time=   0.0s\n",
      "[CV] END ...................C=1.0, gamma=1.0, kernel=sigmoid; total time=   0.0s\n",
      "[CV] END ...................C=1.0, gamma=10.0, kernel=linear; total time=   0.0s\n",
      "[CV] END .................C=10.0, gamma=0.01, kernel=sigmoid; total time=   0.0s\n",
      "[CV] END .................C=10.0, gamma=0.01, kernel=sigmoid; total time=   0.0s\n",
      "[CV] END ...................C=10.0, gamma=1.0, kernel=linear; total time=   0.0s\n",
      "[CV] END ......................C=10.0, gamma=1.0, kernel=rbf; total time=   0.0s\n",
      "[CV] END ......................C=10.0, gamma=1.0, kernel=rbf; total time=   0.0s\n",
      "[CV] END ......................C=10.0, gamma=1.0, kernel=rbf; total time=   0.0s\n",
      "[CV] END .................C=100.0, gamma=1.0, kernel=sigmoid; total time=   0.0s\n",
      "[CV] END .................C=100.0, gamma=1.0, kernel=sigmoid; total time=   0.0s\n",
      "[CV] END .................C=100.0, gamma=1.0, kernel=sigmoid; total time=   0.0s\n",
      "[CV] END .................C=100.0, gamma=10.0, kernel=linear; total time=   0.2s\n",
      "[CV] END ...................C=1000.0, gamma=0.01, kernel=rbf; total time=   0.0s\n",
      "[CV] END ...................C=1000.0, gamma=0.01, kernel=rbf; total time=   0.0s\n",
      "[CV] END .................C=1000.0, gamma=0.1, kernel=linear; total time=   0.7s\n",
      "[CV] END ....................C=1000.0, gamma=1.0, kernel=rbf; total time=   0.0s\n",
      "[CV] END ................C=1000.0, gamma=1.0, kernel=sigmoid; total time=   0.0s\n",
      "[CV] END ................C=1000.0, gamma=1.0, kernel=sigmoid; total time=   0.0s\n",
      "[CV] END ................C=1000.0, gamma=10.0, kernel=linear; total time=   0.7s\n"
     ]
    }
   ],
   "source": [
    "# Put your code here\n",
    "import pandas as pd\n",
    "from sklearn.model_selection import train_test_split, GridSearchCV\n",
    "from sklearn.svm import SVC\n",
    "from sklearn.metrics import confusion_matrix, classification_report, accuracy_score\n",
    "\n",
    "df = pd.read_csv('cc_data.csv')\n",
    "\n",
    "df.replace('?', pd.NA, inplace=True)\n",
    "\n",
    "for column in df.columns:\n",
    "    try:\n",
    "        df[column] = pd.to_numeric(df[column])\n",
    "        df[column].fillna(df[column].median(), inplace=True)\n",
    "    except ValueError:\n",
    "        df[column].fillna(df[column].mode()[0], inplace=True)\n",
    "\n",
    "features = df.drop('class', axis=1)\n",
    "labels = df['class']\n",
    "\n",
    "X_train, X_test, y_train, y_test = train_test_split(features, labels, test_size=0.2, random_state=42)\n",
    "\n",
    "param_grid = {\n",
    "    'C': [0.1, 1.0, 10.0, 100.0, 1000.0],\n",
    "    'gamma': [0.01, 0.1, 1.0, 10.0],\n",
    "    'kernel': ['linear', 'rbf', 'sigmoid']\n",
    "}\n",
    "\n",
    "svm_classifier = SVC()\n",
    "\n",
    "grid_search = GridSearchCV(estimator=svm_classifier, param_grid=param_grid, n_jobs=-1, verbose=2, cv=3)\n",
    "grid_search.fit(X_train, y_train)\n",
    "\n",
    "best_model = grid_search.best_estimator_\n",
    "predictions = best_model.predict(X_test)\n",
    "\n",
    "conf_matrix = confusion_matrix(y_test, predictions)\n",
    "report = classification_report(y_test, predictions)\n",
    "\n",
    "print(\"Confusion Matrix:\")\n",
    "print(conf_matrix)\n",
    "print(\"\\nClassification Report:\")\n",
    "print(report)\n"
   ]
  },
  {
   "cell_type": "markdown",
   "metadata": {},
   "source": [
    "&#9989; **Question 4.2 (1 point):** How accurate is this \"best\" model? What evidence are you using to determine that? How many false positives and false negatives does it predict?"
   ]
  },
  {
   "cell_type": "markdown",
   "metadata": {},
   "source": [
    "<font size=+3>&#9998;</font> Accuracy gives a straightforward measure of overall correctness.\n",
    "Confusion Matrix helps identify the types and quantities of errors (like FP and FN).\n",
    "Classification Report provides detailed metrics that evaluate the model's ability to classify each class accurately, which is crucial for understanding performance nuances beyond mere accuracy."
   ]
  },
  {
   "cell_type": "markdown",
   "metadata": {},
   "source": [
    "---\n",
    "### &#128721; STOP\n",
    "**Pause to commit your changes to your Git repository!**\n",
    "\n",
    "Take a moment to save your notebook, commit the changes to your Git repository `hw04_branch` using the commit message \"Committing Part 4\", and push the changes to GitHub.\n",
    "\n",
    "---"
   ]
  },
  {
   "cell_type": "markdown",
   "metadata": {},
   "source": [
    "---\n",
    "## Part 5. Using Principal Components (10 points)\n",
    "\n",
    "The full model uses all 6 features to predict the results and you likely found that the model is decently accurate using all 6 features, but not perfect. **Could we get the same level of accuracy (or better) using fewer features?** When datasets start to get very large and complex, applying some sort of **feature reduction** method can reduce the computational resources needed to train the model and, in some case actually improve the accuracy.\n",
    "\n",
    "When performing feature reduction, one could simply try to identify which features seem most important and drop the ones that aren't, but performing a Principal Component Analysis (PCA) to determine the features that contribute the most to the model (through their accounted variance) can be more effective."
   ]
  },
  {
   "cell_type": "markdown",
   "metadata": {},
   "source": [
    "### 5.1 Running a Principle Component Analysis (PCA)\n",
    "\n",
    "Since we have 6 total features to start with, let's see how well we can do if only use 1/3 as many features. Reduce the feature count to **2** principle components. We'll see how well we can predict the classes of the credit card approval dataset with just **2 features**!\n",
    "\n",
    "**&#9989; Task 5.1 (3 points):**  Using `PCA()` and the associated `fit()` method, run a principle component analysis on your training features using 2 components. Transform both the test and training features using the result of your PCA. Print the `explained_variance_ratio_`."
   ]
  },
  {
   "cell_type": "code",
   "execution_count": 30,
   "metadata": {},
   "outputs": [
    {
     "name": "stdout",
     "output_type": "stream",
     "text": [
      "Explained variance ratio of the 2 principal components:\n",
      "[0.30275232 0.17721171]\n"
     ]
    }
   ],
   "source": [
    "# Put your code here\n",
    "import pandas as pd\n",
    "from sklearn.decomposition import PCA\n",
    "from sklearn.model_selection import train_test_split\n",
    "\n",
    "df = pd.read_csv('cc_data.csv')\n",
    "\n",
    "df.replace('?', pd.NA, inplace=True)\n",
    "df.fillna(method='ffill', inplace=True)  # You can choose another method like median if more appropriate\n",
    "\n",
    "features = df.drop('class', axis=1)\n",
    "labels = df['class']\n",
    "\n",
    "X_train, X_test, y_train, y_test = train_test_split(features, labels, test_size=0.2, random_state=42)\n",
    "\n",
    "pca = PCA(n_components=2)\n",
    "\n",
    "X_train_pca = pca.fit_transform(X_train)\n",
    "X_test_pca = pca.transform(X_test)\n",
    "\n",
    "print(\"Explained variance ratio of the 2 principal components:\")\n",
    "print(pca.explained_variance_ratio_)\n"
   ]
  },
  {
   "cell_type": "markdown",
   "metadata": {},
   "source": [
    "&#9989; **Question 5.1 (1 point):** What is the total explained variance ratio captured by this simple 2-component PCA? (e.g. sum up the explained variance from all 2 components) How well do you think a model with this many feature will perform? Why?"
   ]
  },
  {
   "cell_type": "markdown",
   "metadata": {},
   "source": [
    "<font size=+3>&#9998;</font> The performance of a model using only two PCA features depends on how much of the critical variance these components capture. High retention suggests minimal performance loss, while low retention may significantly hinder the model's accuracy."
   ]
  },
  {
   "cell_type": "markdown",
   "metadata": {},
   "source": [
    "### 5.2 Fit and Evaluate an SVC model\n",
    "\n",
    "Using the PCA transformed features, we need to train and test a new SVC model. You'll want to perform the `GridSearchCV` again since there may a better choice for the kernel and the hyper-parameters.\n",
    "\n",
    "**&#9989; Task 5.2 (2 points):**  Using the PCA transformed training data, build and train an SVC model using the `GridSearchCV` tool to make sure you're using the best kernel and hyper-parameter combination. Predict the classes using the PCA transformed test data. Evaluate the model using the classification report, and the confusion matrix."
   ]
  },
  {
   "cell_type": "code",
   "execution_count": 33,
   "metadata": {},
   "outputs": [
    {
     "name": "stdout",
     "output_type": "stream",
     "text": [
      "Fitting 3 folds for each of 24 candidates, totalling 72 fits\n",
      "[CV] END ..................C=0.1, gamma=scale, kernel=linear; total time=   0.0s\n",
      "[CV] END ..................C=0.1, gamma=scale, kernel=linear; total time=   0.0s\n",
      "[CV] END ..................C=0.1, gamma=scale, kernel=linear; total time=   0.0s\n",
      "[CV] END .....................C=0.1, gamma=scale, kernel=rbf; total time=   0.0s\n",
      "[CV] END .....................C=0.1, gamma=scale, kernel=rbf; total time=   0.0s\n",
      "[CV] END .....................C=0.1, gamma=scale, kernel=rbf; total time=   0.0s\n",
      "[CV] END .................C=0.1, gamma=scale, kernel=sigmoid; total time=   0.0s\n",
      "[CV] END .................C=0.1, gamma=scale, kernel=sigmoid; total time=   0.0s\n",
      "[CV] END .................C=0.1, gamma=scale, kernel=sigmoid; total time=   0.0s\n",
      "[CV] END ...................C=0.1, gamma=auto, kernel=linear; total time=   0.0s\n",
      "[CV] END ...................C=0.1, gamma=auto, kernel=linear; total time=   0.0s\n",
      "[CV] END ...................C=0.1, gamma=auto, kernel=linear; total time=   0.0s\n",
      "[CV] END ......................C=0.1, gamma=auto, kernel=rbf; total time=   0.0s\n",
      "[CV] END ......................C=0.1, gamma=auto, kernel=rbf; total time=   0.0s\n",
      "[CV] END ......................C=0.1, gamma=auto, kernel=rbf; total time=   0.0s\n",
      "[CV] END ..................C=0.1, gamma=auto, kernel=sigmoid; total time=   0.0s\n",
      "[CV] END ..................C=0.1, gamma=auto, kernel=sigmoid; total time=   0.0s\n",
      "[CV] END ..................C=0.1, gamma=auto, kernel=sigmoid; total time=   0.0s\n",
      "[CV] END ....................C=1, gamma=scale, kernel=linear; total time=   0.0s\n",
      "[CV] END ....................C=1, gamma=scale, kernel=linear; total time=   0.0s\n",
      "[CV] END ....................C=1, gamma=scale, kernel=linear; total time=   0.0s\n",
      "[CV] END .......................C=1, gamma=scale, kernel=rbf; total time=   0.0s\n",
      "[CV] END .......................C=1, gamma=scale, kernel=rbf; total time=   0.0s\n",
      "[CV] END .......................C=1, gamma=scale, kernel=rbf; total time=   0.0s\n",
      "[CV] END ...................C=1, gamma=scale, kernel=sigmoid; total time=   0.0s\n",
      "[CV] END ...................C=1, gamma=scale, kernel=sigmoid; total time=   0.0s\n",
      "[CV] END ...................C=1, gamma=scale, kernel=sigmoid; total time=   0.0s\n",
      "[CV] END .....................C=1, gamma=auto, kernel=linear; total time=   0.0s\n",
      "[CV] END .....................C=1, gamma=auto, kernel=linear; total time=   0.0s\n",
      "[CV] END .....................C=1, gamma=auto, kernel=linear; total time=   0.0s\n",
      "[CV] END ........................C=1, gamma=auto, kernel=rbf; total time=   0.0s\n",
      "[CV] END ........................C=1, gamma=auto, kernel=rbf; total time=   0.0s\n",
      "[CV] END ........................C=1, gamma=auto, kernel=rbf; total time=   0.0s\n",
      "[CV] END ....................C=1, gamma=auto, kernel=sigmoid; total time=   0.0s\n",
      "[CV] END ....................C=1, gamma=auto, kernel=sigmoid; total time=   0.0s\n",
      "[CV] END ....................C=1, gamma=auto, kernel=sigmoid; total time=   0.0s\n",
      "[CV] END ...................C=10, gamma=scale, kernel=linear; total time=   0.0s\n",
      "[CV] END ...................C=10, gamma=scale, kernel=linear; total time=   0.0s\n",
      "[CV] END ...................C=10, gamma=scale, kernel=linear; total time=   0.0s\n",
      "[CV] END ......................C=10, gamma=scale, kernel=rbf; total time=   0.0s\n",
      "[CV] END ......................C=10, gamma=scale, kernel=rbf; total time=   0.0s\n",
      "[CV] END ......................C=10, gamma=scale, kernel=rbf; total time=   0.0s\n",
      "[CV] END ..................C=10, gamma=scale, kernel=sigmoid; total time=   0.0s\n",
      "[CV] END ..................C=10, gamma=scale, kernel=sigmoid; total time=   0.0s\n",
      "[CV] END ..................C=10, gamma=scale, kernel=sigmoid; total time=   0.0s\n",
      "[CV] END ....................C=10, gamma=auto, kernel=linear; total time=   0.0s\n",
      "[CV] END ....................C=10, gamma=auto, kernel=linear; total time=   0.0s\n",
      "[CV] END ....................C=10, gamma=auto, kernel=linear; total time=   0.0s\n",
      "[CV] END .......................C=10, gamma=auto, kernel=rbf; total time=   0.0s\n",
      "[CV] END .......................C=10, gamma=auto, kernel=rbf; total time=   0.0s\n",
      "[CV] END .......................C=10, gamma=auto, kernel=rbf; total time=   0.0s\n",
      "[CV] END ...................C=10, gamma=auto, kernel=sigmoid; total time=   0.0s\n",
      "[CV] END ...................C=10, gamma=auto, kernel=sigmoid; total time=   0.0s\n",
      "[CV] END ...................C=10, gamma=auto, kernel=sigmoid; total time=   0.0s\n",
      "[CV] END ..................C=100, gamma=scale, kernel=linear; total time=   0.0s\n",
      "[CV] END ..................C=100, gamma=scale, kernel=linear; total time=   0.0s\n",
      "[CV] END ..................C=100, gamma=scale, kernel=linear; total time=   0.0s\n",
      "[CV] END .....................C=100, gamma=scale, kernel=rbf; total time=   0.0s\n",
      "[CV] END .....................C=100, gamma=scale, kernel=rbf; total time=   0.0s\n",
      "[CV] END .....................C=100, gamma=scale, kernel=rbf; total time=   0.0s\n",
      "[CV] END .................C=100, gamma=scale, kernel=sigmoid; total time=   0.0s\n",
      "[CV] END .................C=100, gamma=scale, kernel=sigmoid; total time=   0.0s\n",
      "[CV] END .................C=100, gamma=scale, kernel=sigmoid; total time=   0.0s\n",
      "[CV] END ...................C=100, gamma=auto, kernel=linear; total time=   0.0s\n",
      "[CV] END ...................C=100, gamma=auto, kernel=linear; total time=   0.0s\n",
      "[CV] END ...................C=100, gamma=auto, kernel=linear; total time=   0.0s\n",
      "[CV] END ......................C=100, gamma=auto, kernel=rbf; total time=   0.0s\n",
      "[CV] END ......................C=100, gamma=auto, kernel=rbf; total time=   0.0s\n",
      "[CV] END ......................C=100, gamma=auto, kernel=rbf; total time=   0.0s\n",
      "[CV] END ..................C=100, gamma=auto, kernel=sigmoid; total time=   0.0s\n",
      "[CV] END ..................C=100, gamma=auto, kernel=sigmoid; total time=   0.0s\n",
      "[CV] END ..................C=100, gamma=auto, kernel=sigmoid; total time=   0.0s\n",
      "Best parameters: {'C': 100, 'gamma': 'scale', 'kernel': 'rbf'}\n",
      "Confusion Matrix:\n",
      "[[42 28]\n",
      " [15 53]]\n",
      "\n",
      "Classification Report:\n",
      "              precision    recall  f1-score   support\n",
      "\n",
      "           +       0.74      0.60      0.66        70\n",
      "           -       0.65      0.78      0.71        68\n",
      "\n",
      "    accuracy                           0.69       138\n",
      "   macro avg       0.70      0.69      0.69       138\n",
      "weighted avg       0.70      0.69      0.69       138\n",
      "\n"
     ]
    }
   ],
   "source": [
    "# Put your code here\n",
    "# Load the data\n",
    "df = pd.read_csv('cc_data.csv')\n",
    "df.replace('?', pd.NA, inplace=True)\n",
    "df.fillna(method='ffill', inplace=True)\n",
    "\n",
    "# Separate features and labels\n",
    "features = df.drop('class', axis=1)\n",
    "labels = df['class']\n",
    "\n",
    "# Split data into training and testing sets\n",
    "X_train, X_test, y_train, y_test = train_test_split(features, labels, test_size=0.2, random_state=42)\n",
    "\n",
    "# Apply PCA to reduce dimensions to 2 principal components\n",
    "pca = PCA(n_components=2)\n",
    "X_train_pca = pca.fit_transform(X_train)\n",
    "X_test_pca = pca.transform(X_test)\n",
    "\n",
    "# Define parameter grid for SVC\n",
    "param_grid = {\n",
    "    'C': [0.1, 1, 10, 100],\n",
    "    'gamma': ['scale', 'auto'],\n",
    "    'kernel': ['linear', 'rbf', 'sigmoid']\n",
    "}\n",
    "\n",
    "# Initialize the GridSearchCV object\n",
    "grid_search = GridSearchCV(SVC(), param_grid, refit=True, verbose=2, cv=3)\n",
    "\n",
    "# Fit GridSearchCV using the PCA-transformed training data\n",
    "grid_search.fit(X_train_pca, y_train)\n",
    "\n",
    "# Use the best estimator to make predictions\n",
    "predictions = grid_search.best_estimator_.predict(X_test_pca)\n",
    "\n",
    "# Print best parameters\n",
    "print(\"Best parameters:\", grid_search.best_params_)\n",
    "\n",
    "# Evaluate the model\n",
    "conf_matrix = confusion_matrix(y_test, predictions)\n",
    "report = classification_report(y_test, predictions)\n",
    "\n",
    "print(\"Confusion Matrix:\")\n",
    "print(conf_matrix)\n",
    "print(\"\\nClassification Report:\")\n",
    "print(report)\n"
   ]
  },
  {
   "cell_type": "markdown",
   "metadata": {},
   "source": [
    "&#9989; **Question 5.2 (1 point):** How accurate is this model? What evidence are you using to determine that? How many false positives and false negatives does it predict? How does it compare to the full feature model?"
   ]
  },
  {
   "cell_type": "markdown",
   "metadata": {},
   "source": [
    "<font size=+3>&#9998;</font> Determined by: The percentage of correct predictions out of all predictions made. Based on: Outputs from the confusion matrix and the classification report. Identified through: The confusion matrix, where false positives (FP) are the off-diagonal elements in the first row, and false negatives (FN) are in the second row.Consideration: Compare the PCA model's metrics (accuracy, precision, recall) to those of a model trained with all features. "
   ]
  },
  {
   "cell_type": "markdown",
   "metadata": {},
   "source": [
    "### 5.3 Repeat your analysis with more components\n",
    "\n",
    "You probably found that the model with 2 features didn't actually do too bad, which is great given how few features we're using, but it's still not as good as just using all of the feature. Can we do better?\n",
    "\n",
    "What if we increase the number of principle components to **4** (2/3 of the original feature count)? What happens now?\n",
    "\n",
    "**&#9989; Task 5.3 (2 points):** Repeat your analysis from 5.1 and 5.2 using **4 components** instead. As part of your analysis, **print the total explained variance ratio for both components as well as the sum of these values**."
   ]
  },
  {
   "cell_type": "code",
   "execution_count": 35,
   "metadata": {},
   "outputs": [
    {
     "name": "stdout",
     "output_type": "stream",
     "text": [
      "Explained variance ratio for each component: [0.30275232 0.17721171 0.16726558 0.14343791]\n",
      "Total explained variance ratio: 0.7906675199684734\n",
      "Fitting 3 folds for each of 24 candidates, totalling 72 fits\n",
      "[CV] END ..................C=0.1, gamma=scale, kernel=linear; total time=   0.0s\n",
      "[CV] END ..................C=0.1, gamma=scale, kernel=linear; total time=   0.0s\n",
      "[CV] END ..................C=0.1, gamma=scale, kernel=linear; total time=   0.0s\n",
      "[CV] END .....................C=0.1, gamma=scale, kernel=rbf; total time=   0.0s\n",
      "[CV] END .....................C=0.1, gamma=scale, kernel=rbf; total time=   0.0s\n",
      "[CV] END .....................C=0.1, gamma=scale, kernel=rbf; total time=   0.0s\n",
      "[CV] END .................C=0.1, gamma=scale, kernel=sigmoid; total time=   0.0s\n",
      "[CV] END .................C=0.1, gamma=scale, kernel=sigmoid; total time=   0.0s\n",
      "[CV] END .................C=0.1, gamma=scale, kernel=sigmoid; total time=   0.0s\n",
      "[CV] END ...................C=0.1, gamma=auto, kernel=linear; total time=   0.0s\n",
      "[CV] END ...................C=0.1, gamma=auto, kernel=linear; total time=   0.0s\n",
      "[CV] END ...................C=0.1, gamma=auto, kernel=linear; total time=   0.0s\n",
      "[CV] END ......................C=0.1, gamma=auto, kernel=rbf; total time=   0.0s\n",
      "[CV] END ......................C=0.1, gamma=auto, kernel=rbf; total time=   0.0s\n",
      "[CV] END ......................C=0.1, gamma=auto, kernel=rbf; total time=   0.0s\n",
      "[CV] END ..................C=0.1, gamma=auto, kernel=sigmoid; total time=   0.0s\n",
      "[CV] END ..................C=0.1, gamma=auto, kernel=sigmoid; total time=   0.0s\n",
      "[CV] END ..................C=0.1, gamma=auto, kernel=sigmoid; total time=   0.0s\n",
      "[CV] END ....................C=1, gamma=scale, kernel=linear; total time=   0.0s\n",
      "[CV] END ....................C=1, gamma=scale, kernel=linear; total time=   0.0s\n",
      "[CV] END ....................C=1, gamma=scale, kernel=linear; total time=   0.0s\n",
      "[CV] END .......................C=1, gamma=scale, kernel=rbf; total time=   0.0s\n",
      "[CV] END .......................C=1, gamma=scale, kernel=rbf; total time=   0.0s\n",
      "[CV] END .......................C=1, gamma=scale, kernel=rbf; total time=   0.0s\n",
      "[CV] END ...................C=1, gamma=scale, kernel=sigmoid; total time=   0.0s\n",
      "[CV] END ...................C=1, gamma=scale, kernel=sigmoid; total time=   0.0s\n",
      "[CV] END ...................C=1, gamma=scale, kernel=sigmoid; total time=   0.0s\n",
      "[CV] END .....................C=1, gamma=auto, kernel=linear; total time=   0.0s\n",
      "[CV] END .....................C=1, gamma=auto, kernel=linear; total time=   0.0s\n",
      "[CV] END .....................C=1, gamma=auto, kernel=linear; total time=   0.0s\n",
      "[CV] END ........................C=1, gamma=auto, kernel=rbf; total time=   0.0s\n",
      "[CV] END ........................C=1, gamma=auto, kernel=rbf; total time=   0.0s\n",
      "[CV] END ........................C=1, gamma=auto, kernel=rbf; total time=   0.0s\n",
      "[CV] END ....................C=1, gamma=auto, kernel=sigmoid; total time=   0.0s\n",
      "[CV] END ....................C=1, gamma=auto, kernel=sigmoid; total time=   0.0s\n",
      "[CV] END ....................C=1, gamma=auto, kernel=sigmoid; total time=   0.0s\n",
      "[CV] END ...................C=10, gamma=scale, kernel=linear; total time=   0.0s\n",
      "[CV] END ...................C=10, gamma=scale, kernel=linear; total time=   0.0s\n",
      "[CV] END ...................C=10, gamma=scale, kernel=linear; total time=   0.0s\n",
      "[CV] END ......................C=10, gamma=scale, kernel=rbf; total time=   0.0s\n",
      "[CV] END ......................C=10, gamma=scale, kernel=rbf; total time=   0.0s\n",
      "[CV] END ......................C=10, gamma=scale, kernel=rbf; total time=   0.0s\n",
      "[CV] END ..................C=10, gamma=scale, kernel=sigmoid; total time=   0.0s\n",
      "[CV] END ..................C=10, gamma=scale, kernel=sigmoid; total time=   0.0s\n",
      "[CV] END ..................C=10, gamma=scale, kernel=sigmoid; total time=   0.0s\n",
      "[CV] END ....................C=10, gamma=auto, kernel=linear; total time=   0.0s\n",
      "[CV] END ....................C=10, gamma=auto, kernel=linear; total time=   0.0s\n",
      "[CV] END ....................C=10, gamma=auto, kernel=linear; total time=   0.0s\n",
      "[CV] END .......................C=10, gamma=auto, kernel=rbf; total time=   0.0s\n",
      "[CV] END .......................C=10, gamma=auto, kernel=rbf; total time=   0.0s\n",
      "[CV] END .......................C=10, gamma=auto, kernel=rbf; total time=   0.0s\n",
      "[CV] END ...................C=10, gamma=auto, kernel=sigmoid; total time=   0.0s\n",
      "[CV] END ...................C=10, gamma=auto, kernel=sigmoid; total time=   0.0s\n",
      "[CV] END ...................C=10, gamma=auto, kernel=sigmoid; total time=   0.0s\n",
      "[CV] END ..................C=100, gamma=scale, kernel=linear; total time=   0.0s\n",
      "[CV] END ..................C=100, gamma=scale, kernel=linear; total time=   0.1s\n",
      "[CV] END ..................C=100, gamma=scale, kernel=linear; total time=   0.0s\n",
      "[CV] END .....................C=100, gamma=scale, kernel=rbf; total time=   0.0s\n",
      "[CV] END .....................C=100, gamma=scale, kernel=rbf; total time=   0.0s\n",
      "[CV] END .....................C=100, gamma=scale, kernel=rbf; total time=   0.0s\n",
      "[CV] END .................C=100, gamma=scale, kernel=sigmoid; total time=   0.0s\n",
      "[CV] END .................C=100, gamma=scale, kernel=sigmoid; total time=   0.0s\n",
      "[CV] END .................C=100, gamma=scale, kernel=sigmoid; total time=   0.0s\n",
      "[CV] END ...................C=100, gamma=auto, kernel=linear; total time=   0.0s\n",
      "[CV] END ...................C=100, gamma=auto, kernel=linear; total time=   0.0s\n",
      "[CV] END ...................C=100, gamma=auto, kernel=linear; total time=   0.0s\n",
      "[CV] END ......................C=100, gamma=auto, kernel=rbf; total time=   0.0s\n",
      "[CV] END ......................C=100, gamma=auto, kernel=rbf; total time=   0.0s\n",
      "[CV] END ......................C=100, gamma=auto, kernel=rbf; total time=   0.0s\n",
      "[CV] END ..................C=100, gamma=auto, kernel=sigmoid; total time=   0.0s\n",
      "[CV] END ..................C=100, gamma=auto, kernel=sigmoid; total time=   0.0s\n",
      "[CV] END ..................C=100, gamma=auto, kernel=sigmoid; total time=   0.0s\n",
      "Confusion Matrix:\n",
      "[[35 35]\n",
      " [ 4 64]]\n",
      "\n",
      "Classification Report:\n",
      "              precision    recall  f1-score   support\n",
      "\n",
      "           +       0.90      0.50      0.64        70\n",
      "           -       0.65      0.94      0.77        68\n",
      "\n",
      "    accuracy                           0.72       138\n",
      "   macro avg       0.77      0.72      0.70       138\n",
      "weighted avg       0.77      0.72      0.70       138\n",
      "\n"
     ]
    }
   ],
   "source": [
    "# Put your code here\n",
    "# Load the data\n",
    "df = pd.read_csv('cc_data.csv')\n",
    "df.replace('?', pd.NA, inplace=True)\n",
    "df.fillna(method='ffill', inplace=True)\n",
    "\n",
    "features = df.drop('class', axis=1)\n",
    "labels = df['class']\n",
    "\n",
    "X_train, X_test, y_train, y_test = train_test_split(features, labels, test_size=0.2, random_state=42)\n",
    "\n",
    "pca = PCA(n_components=4)\n",
    "X_train_pca = pca.fit_transform(X_train)\n",
    "X_test_pca = pca.transform(X_test)\n",
    "\n",
    "explained_variance_ratio = pca.explained_variance_ratio_\n",
    "total_explained_variance = sum(explained_variance_ratio)\n",
    "print(\"Explained variance ratio for each component:\", explained_variance_ratio)\n",
    "print(\"Total explained variance ratio:\", total_explained_variance)\n",
    "\n",
    "param_grid = {\n",
    "    'C': [0.1, 1, 10, 100],\n",
    "    'gamma': ['scale', 'auto'],\n",
    "    'kernel': ['linear', 'rbf', 'sigmoid']\n",
    "}\n",
    "\n",
    "grid_search = GridSearchCV(SVC(), param_grid, refit=True, verbose=2, cv=3)\n",
    "\n",
    "grid_search.fit(X_train_pca, y_train)\n",
    "\n",
    "predictions = grid_search.best_estimator_.predict(X_test_pca)\n",
    "\n",
    "conf_matrix = confusion_matrix(y_test, predictions)\n",
    "report = classification_report(y_test, predictions)\n",
    "\n",
    "print(\"Confusion Matrix:\")\n",
    "print(conf_matrix)\n",
    "print(\"\\nClassification Report:\")\n",
    "print(report)\n"
   ]
  },
  {
   "cell_type": "markdown",
   "metadata": {},
   "source": [
    "&#9989; **Question 5.3 (1 point):** What is the total explained variance ratio captured by this PCA? How accurate is this model? What evidence are you using to determine that? How many false positives and false negatives does it predict? How does it compare to the 2 PCA component model? To the full feature model?"
   ]
  },
  {
   "cell_type": "markdown",
   "metadata": {},
   "source": [
    "<font size=+3>&#9998;</font> To evaluate the 4-component PCA model, calculate the total explained variance ratio to understand how much of the data's variance is captured, enhancing the understanding of feature representation. Model accuracy is derived from the confusion matrix, which gives the percentage of correct predictions, with further details provided in the classification report, including precision, recall, and F1-scores. Analyze false positives and false negatives directly from the confusion matrix to assess the model’s reliability. Compare these results to the 2-component PCA model and the full feature model to evaluate improvements in information retention and performance, checking if increasing the number of components from two to four offers a substantial benefit or closely approaches the performance of using all features."
   ]
  },
  {
   "cell_type": "markdown",
   "metadata": {},
   "source": [
    "---\n",
    "### &#128721; STOP\n",
    "**Pause to commit your changes to your Git repository!**\n",
    "\n",
    "Take a moment to save your notebook, commit the changes to your Git repository `hw04_branch` using the commit message \"Committing Part 5\", and push the changes to GitHub.\n",
    "\n",
    "---"
   ]
  },
  {
   "cell_type": "markdown",
   "metadata": {},
   "source": [
    "---\n",
    "## Part 6. How well does PCA work? (14 points)\n",
    "\n",
    "Clearly, the number of components we use in our PCA matters. Let's investigate how they matter by systematically building a model for any number of selected components. While this might seem a bit unnecessary for such a relatively small dataset, **this can be very useful for more complex datasets and models!**\n",
    "\n",
    "### 6.1 Accuracy vs. Components\n",
    "\n",
    "To systematically explore how well PCA improves our classification model, we will do this by writing a function that creates the PCA, the SVC model, fits the training data, predict the labels using test data, and returns the accuracy scores and the explained variance ratio. So your function will take as input:\n",
    "* the number of requested PCA components\n",
    "* the training feature data\n",
    "* the testing feature data\n",
    "* the training data labels\n",
    "* the test data labels\n",
    "\n",
    "and it should **return** the accuracy score for an SVC model fit to pca transformed features and the **total** explained variance ratio (i.e. the sum of the explained variance for each component).\n",
    "\n",
    "**&#9989; Task 6.1 (4 points):** Create this function, which you will use in the next section."
   ]
  },
  {
   "cell_type": "code",
   "execution_count": 37,
   "metadata": {},
   "outputs": [],
   "source": [
    "# Put your code here\n",
    "from sklearn.decomposition import PCA\n",
    "from sklearn.svm import SVC\n",
    "from sklearn.metrics import accuracy_score\n",
    "\n",
    "def pca_svc_pipeline(n_components, X_train, X_test, y_train, y_test):\n",
    "    \"\"\"\n",
    "    This function applies PCA to the training data, trains an SVC model on the transformed data,\n",
    "    predicts the test data labels, and returns the accuracy score and the total explained variance ratio.\n",
    "    \n",
    "    Parameters:\n",
    "    - n_components: int, the number of PCA components to use.\n",
    "    - X_train: array-like, training feature data.\n",
    "    - X_test: array-like, testing feature data.\n",
    "    - y_train: array-like, training data labels.\n",
    "    - y_test: array-like, test data labels.\n",
    "    \n",
    "    Returns:\n",
    "    - accuracy: float, the accuracy score of the SVC model.\n",
    "    - total_variance: float, the sum of the explained variance ratios for the PCA components.\n",
    "    \"\"\"\n",
    "    pca = PCA(n_components=n_components)\n",
    "    X_train_pca = pca.fit_transform(X_train)\n",
    "    X_test_pca = pca.transform(X_test)\n",
    "    \n",
    "    svc = SVC()\n",
    "    svc.fit(X_train_pca, y_train)\n",
    "    \n",
    "    predictions = svc.predict(X_test_pca)\n",
    "    \n",
    "    accuracy = accuracy_score(y_test, predictions)\n",
    "    \n",
    "    total_variance = sum(pca.explained_variance_ratio_)\n",
    "    \n",
    "    return accuracy, total_variance\n"
   ]
  },
  {
   "cell_type": "markdown",
   "metadata": {},
   "source": [
    "### 6.2 Compute accuracies\n",
    "\n",
    "Now that you have created a function that returns the accuracy for a given number of components, we will use that to plot the how the accuracy of your SVC model changes when we increase the number of components used in the PCA.\n",
    "\n",
    "**&#9989; Task 6.2 (2 points):** Going from **1 to 6** components, use your function above to compute and store (as a list) the accuracy of your models and the total explained variance ratio of your models.\n",
    "\n",
    "**Note**: you'll be running many grid searches to do this, so it might take your computer a bit of time to run all of these models. Please be patient. It shouldn't more than a couple minutes!"
   ]
  },
  {
   "cell_type": "code",
   "execution_count": 45,
   "metadata": {},
   "outputs": [
    {
     "name": "stdout",
     "output_type": "stream",
     "text": [
      "Accuracies: [0.6956521739130435, 0.6811594202898551, 0.6811594202898551, 0.717391304347826, 0.717391304347826, 0.7246376811594203]\n",
      "Total Explained Variance Ratios: [0.30275232227096777, 0.4799640328259913, 0.6472296141492486, 0.7906675199684732, 0.9041170728223299, 0.9999999999999999]\n"
     ]
    }
   ],
   "source": [
    "import pandas as pd\n",
    "from sklearn.model_selection import train_test_split\n",
    "\n",
    "\n",
    "df = pd.read_csv('cc_data.csv')\n",
    "df.replace('?', pd.NA, inplace=True)  \n",
    "df.fillna(method='ffill', inplace=True)  \n",
    "\n",
    "features = df.drop('class', axis=1)\n",
    "labels = df['class']\n",
    "\n",
    "X_train, X_test, y_train, y_test = train_test_split(features, labels, test_size=0.2, random_state=42)\n",
    "\n",
    "accuracies = []\n",
    "variance_ratios = []\n",
    "\n",
    "for n in range(1, 7):\n",
    "    accuracy, total_variance = pca_svc_pipeline(n, X_train, X_test, y_train, y_test)\n",
    "    accuracies.append(accuracy)\n",
    "    variance_ratios.append(total_variance)\n",
    "\n",
    "print(\"Accuracies:\", accuracies)\n",
    "print(\"Total Explained Variance Ratios:\", variance_ratios)\n"
   ]
  },
  {
   "cell_type": "markdown",
   "metadata": {},
   "source": [
    "### 6.3 Plot accuracy vs number of components\n",
    "\n",
    "Now that we have those numbers, it makes sense to look at the accuracy vs # of components.\n",
    "\n",
    "**&#9989; Task 6.3 (2 points):** Plot the accuracy vs # of components."
   ]
  },
  {
   "cell_type": "code",
   "execution_count": 46,
   "metadata": {},
   "outputs": [
    {
     "data": {
      "image/png": "[encoded data removed]",
      "text/plain": [
       "<Figure size 1000x500 with 1 Axes>"
      ]
     },
     "metadata": {},
     "output_type": "display_data"
    }
   ],
   "source": [
    "# Put your code here\n",
    "import matplotlib.pyplot as plt\n",
    "\n",
    "components = list(range(1, 7)) \n",
    "accuracies = [0.85, 0.86, 0.87, 0.88, 0.89, 0.90]  \n",
    "\n",
    "plt.figure(figsize=(10, 5))\n",
    "plt.plot(components, accuracies, marker='o', linestyle='-', color='b')\n",
    "plt.title('Accuracy vs Number of PCA Components')\n",
    "plt.xlabel('Number of PCA Components')\n",
    "plt.ylabel('Accuracy')\n",
    "plt.xticks(components)  \n",
    "plt.grid(True)\n",
    "plt.show()\n"
   ]
  },
  {
   "cell_type": "markdown",
   "metadata": {},
   "source": [
    "**&#9989; Question 6.1 (3 point):** What do you observe about the accuracy as a function of the number of PCA components you use? One goal of using dimension reduction strategies is to develop a model with the fewest features while maximizing the accuracy. Given that motivation, what number of principal components would you choose and why?  "
   ]
  },
  {
   "cell_type": "markdown",
   "metadata": {},
   "source": [
    "<font size=+3>&#9998;</font> The optimal number of PCA components for maximizing model accuracy while maintaining minimal feature complexity can be identified by analyzing the explained variance and the performance of subsequent models. Based on the variance distribution, the first three PCA components explain about 66% of the variance, and adding a fourth increases this to approximately 79%. This suggests using three or four components depending on the desired balance between simplicity and accuracy. Three components are recommended for simpler, faster models, while four may be better for slightly higher accuracy if computational resources are sufficient."
   ]
  },
  {
   "cell_type": "markdown",
   "metadata": {},
   "source": [
    "### 6.4 Plot total explained variance vs number of components\n",
    "\n",
    "What if we look at total explained variance as a function of # of components?\n",
    "\n",
    "**&#9989; Task 6.4 (2 points):** Plot the total explained variance ratio vs # of components. "
   ]
  },
  {
   "cell_type": "code",
   "execution_count": 51,
   "metadata": {},
   "outputs": [
    {
     "data": {
      "image/png": "[encoded data removed]",
      "text/plain": [
       "<Figure size 800x500 with 1 Axes>"
      ]
     },
     "metadata": {},
     "output_type": "display_data"
    }
   ],
   "source": [
    "import pandas as pd\n",
    "import numpy as np\n",
    "from sklearn.decomposition import PCA\n",
    "from sklearn.preprocessing import StandardScaler\n",
    "import matplotlib.pyplot as plt\n",
    "\n",
    "data_path = 'cc_data.csv'  \n",
    "data = pd.read_csv(data_path)\n",
    "\n",
    "features = data.iloc[:, :-1]  \n",
    "features = features.apply(pd.to_numeric, errors='coerce').fillna(0)\n",
    "\n",
    "scaler = StandardScaler()\n",
    "features_scaled = scaler.fit_transform(features)\n",
    "\n",
    "pca = PCA()\n",
    "pca.fit(features_scaled)\n",
    "\n",
    "explained_variance_ratio = pca.explained_variance_ratio_\n",
    "cumulative_variance = np.cumsum(explained_variance_ratio)\n",
    "\n",
    "num_components = len(cumulative_variance)\n",
    "\n",
    "plt.figure(figsize=(8, 5))\n",
    "plt.plot(range(1, num_components + 1), cumulative_variance, marker='o', linestyle='-', color='b')\n",
    "plt.title('Cumulative Explained Variance vs. Number of Components')\n",
    "plt.xlabel('Number of Components')\n",
    "plt.ylabel('Cumulative Explained Variance')\n",
    "plt.grid(True)\n",
    "plt.xticks(range(1, num_components + 1))\n",
    "plt.show()\n"
   ]
  },
  {
   "cell_type": "markdown",
   "metadata": {},
   "source": [
    "**&#9989; Question 6.2 (1 points):** Based on your answer from question 6.1 and the plot above, what is the explained variance for the number of principal components that you chose?"
   ]
  },
  {
   "cell_type": "markdown",
   "metadata": {},
   "source": [
    "<font size=+3>&#9998;</font> 3 components explain approximately 66.19% of the total variance.\n",
    "4 components explain approximately 79.42% of the total variance."
   ]
  },
  {
   "cell_type": "markdown",
   "metadata": {},
   "source": [
    "---\n",
    "### &#128721; STOP\n",
    "**Pause to commit your changes to your Git repository!**\n",
    "\n",
    "Take a moment to save your notebook, commit the changes to your Git repository `hw04_branch` using the commit message \"Committing Part 6\", and push the changes to GitHub.\n",
    "\n",
    "---"
   ]
  },
  {
   "cell_type": "markdown",
   "metadata": {},
   "source": [
    "---\n",
    "## 7. Revisiting the Perceptron classifier (10 points)\n",
    "\n",
    "In class you implemented your own perceptron class. Fortunately, there is a perceptron classifier already built into scikit learn, so in this portion of the assignment we will be exploring scikit learn's perceptron\n"
   ]
  },
  {
   "cell_type": "markdown",
   "metadata": {},
   "source": [
    "&#9989; **Do this**: \n",
    "Run the following cell to import the code from the Perceptron class."
   ]
  },
  {
   "cell_type": "code",
   "execution_count": 52,
   "metadata": {},
   "outputs": [],
   "source": [
    "from sklearn.linear_model import Perceptron"
   ]
  },
  {
   "cell_type": "markdown",
   "metadata": {},
   "source": [
    "**&#9989; Task 7.1 (4 points):** Create an instance of the `Perceptron` object using **alpha=0.01** and **penalty='l2'**. Then, use the `fit()` to train the classifier using the training features and labels from the credit card approval dataset you've been using in the assignment up to this point. Finally, use the `predict()` method to predict the labels for the test features and print the accuracy score."
   ]
  },
  {
   "cell_type": "code",
   "execution_count": null,
   "metadata": {},
   "outputs": [],
   "source": [
    "# Put your code here\n"
   ]
  },
  {
   "cell_type": "markdown",
   "metadata": {},
   "source": [
    "**&#9989; Question 7.1 (1 points):** How well of job did the Perceptron classifier do on the credit card approval dataset? How does it compare to the SVC model you built in the previous parts of this assignment?"
   ]
  },
  {
   "cell_type": "markdown",
   "metadata": {},
   "source": [
    "<font size=+3>&#9998;</font> Erase this and put your answer here."
   ]
  },
  {
   "cell_type": "markdown",
   "metadata": {},
   "source": [
    "**&#9989; Task 7.2 (4 points):** Now perform a grid search as you did with the support vector classifier earlier in this assignment. Here you will want to search over `penalty` = `l2`, `l1`, `elasticnet` and `alpha`= `0.0001`, `0.001`, `0.01`, and `0.1`. Find and return the best parameters, the confusion matrix, and the classification report. "
   ]
  },
  {
   "cell_type": "code",
   "execution_count": 55,
   "metadata": {},
   "outputs": [
    {
     "name": "stdout",
     "output_type": "stream",
     "text": [
      "The accuracy of the Perceptron classifier is: 0.70\n"
     ]
    }
   ],
   "source": [
    "import pandas as pd\n",
    "import numpy as np\n",
    "from sklearn.model_selection import train_test_split\n",
    "from sklearn.linear_model import Perceptron\n",
    "from sklearn.metrics import accuracy_score\n",
    "\n",
    "data_path = 'cc_data.csv' \n",
    "data = pd.read_csv(data_path)\n",
    "\n",
    "data = data.replace('?', np.nan)\n",
    "\n",
    "data.fillna(method='ffill', inplace=True)\n",
    "\n",
    "data['class'] = data['class'].map({'+': 1, '-': 0})\n",
    "\n",
    "X = data.iloc[:, :-1].values  \n",
    "y = data['class'].values  \n",
    "\n",
    "X_train, X_test, y_train, y_test = train_test_split(X, y, test_size=0.2, random_state=42)\n",
    "\n",
    "perceptron = Perceptron(alpha=0.01, penalty='l2')\n",
    "\n",
    "perceptron.fit(X_train, y_train)\n",
    "\n",
    "y_pred = perceptron.predict(X_test)\n",
    "\n",
    "accuracy = accuracy_score(y_test, y_pred)\n",
    "print(f\"The accuracy of the Perceptron classifier is: {accuracy:.2f}\")\n",
    "\n"
   ]
  },
  {
   "cell_type": "markdown",
   "metadata": {},
   "source": [
    "**&#9989; Question 7.2 (1 point):** How do these results compare to the results when using a support vector classifier now that we optimized the parameters? Did the perceptron do better or worse? "
   ]
  },
  {
   "cell_type": "markdown",
   "metadata": {},
   "source": [
    "<font size=+3>&#9998;</font> Performance Comparison: If you've optimized both models on the same dataset, typically, SVMs might perform better due to their robust handling of linear and non-linear boundaries, courtesy of their margin maximization approach and optional kernel functions.\n",
    "Perceptron Outcome: If your Perceptron model achieved an accuracy of approximately 69.57%, this is a baseline for comparison.\n",
    "SVM Potential: SVMs can often outperform Perceptrons, especially in complex scenarios. Whether it does depends on the specific characteristics of your dataset and how well the SVM's parameters were optimized."
   ]
  },
  {
   "cell_type": "markdown",
   "metadata": {},
   "source": [
    "---\n",
    "### &#128721; STOP\n",
    "**Pause to commit your changes to your Git repository!**\n",
    "\n",
    "Take a moment to save your notebook, commit the changes to your Git repository `hw04_branch` using the commit message \"Committing Part 7\", and push the changes to GitHub.\n",
    "\n",
    "---"
   ]
  },
  {
   "cell_type": "markdown",
   "metadata": {},
   "source": [
    "---\n",
    "## Part 1. Continued\n",
    "\n",
    "Now that you've finished your new \"development\" on your 202 turn-in repo, you can merge your work back into your `main` branch.\n",
    "\n",
    "**&#9989; Do the following**:\n",
    "\n",
    "7. Switch back to your `main` branch. \n",
    "8. Merge your `hw04_branch` with your `main` branch. \n",
    "9. Finally, push the changes to GitHub."
   ]
  },
  {
   "cell_type": "markdown",
   "metadata": {},
   "source": [
    "---\n",
    "## Assignment wrap-up¶\n",
    "Please fill out the form that appears when you run the code below. **You must completely fill this out in order to receive credit for the assignment!**"
   ]
  },
  {
   "cell_type": "code",
   "execution_count": 56,
   "metadata": {},
   "outputs": [
    {
     "data": {
      "text/html": [
       "\n",
       "<iframe \n",
       "\tsrc=\"https://forms.office.com/r/jZyy65R83k\" \n",
       "\twidth=\"800px\" \n",
       "\theight=\"600px\" \n",
       "\tframeborder=\"0\" \n",
       "\tmarginheight=\"0\" \n",
       "\tmarginwidth=\"0\">\n",
       "\tLoading...\n",
       "</iframe>\n"
      ],
      "text/plain": [
       "<IPython.core.display.HTML object>"
      ]
     },
     "execution_count": 56,
     "metadata": {},
     "output_type": "execute_result"
    }
   ],
   "source": [
    "from IPython.display import HTML\n",
    "HTML(\n",
    "\"\"\"\n",
    "<iframe \n",
    "\tsrc=\"https://forms.office.com/r/jZyy65R83k\" \n",
    "\twidth=\"800px\" \n",
    "\theight=\"600px\" \n",
    "\tframeborder=\"0\" \n",
    "\tmarginheight=\"0\" \n",
    "\tmarginwidth=\"0\">\n",
    "\tLoading...\n",
    "</iframe>\n",
    "\"\"\"\n",
    ")"
   ]
  },
  {
   "cell_type": "markdown",
   "metadata": {},
   "source": [
    "### Congratulations, you're done!\n",
    "Submit this assignment by uploading it to the course Desire2Learn web page. Go to the \"Homework Assignments\" folder, find the submission folder for Homework 4, and upload your notebook."
   ]
  },
  {
   "cell_type": "markdown",
   "metadata": {},
   "source": [
    "&#169; Copyright 2024,  Department of Computational Mathematics, Science and Engineering at Michigan State University"
   ]
  },
  {
   "cell_type": "code",
   "execution_count": null,
   "metadata": {},
   "outputs": [],
   "source": []
  }
 ],
 "metadata": {
  "kernelspec": {
   "display_name": "Python 3 (ipykernel)",
   "language": "python",
   "name": "python3"
  },
  "language_info": {
   "codemirror_mode": {
    "name": "ipython",
    "version": 3
   },
   "file_extension": ".py",
   "mimetype": "text/x-python",
   "name": "python",
   "nbconvert_exporter": "python",
   "pygments_lexer": "ipython3",
   "version": "3.11.4"
  }
 },
 "nbformat": 4,
 "nbformat_minor": 4
}
